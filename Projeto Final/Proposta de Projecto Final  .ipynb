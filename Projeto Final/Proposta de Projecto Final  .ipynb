{
 "cells": [
  {
   "cell_type": "markdown",
   "metadata": {},
   "source": [
    "## Proposta Para o projecto Final \n",
    "\n",
    "**Nome do estudante e matrícula**             \n",
    "\n",
    "*Jones Márcio Nambundo - 710* \n",
    "\n",
    "*Tarciso Gregorio Bernardo de Belo - 822*\n",
    "\n",
    "- Tema : RF-based Direction Finding of UAVs Using DNN\n",
    "- Autores : Samith Abeywickrama, Lahiru Jayasinghe, Hua Fu, Subashini Nissanka, and Chau Yuen\n",
    "- Link do artigo : https://ieeexplore.ieee.org/abstract/document/8689177\n",
    "\n",
    "**Descrição Do Projecto** \n",
    "\n",
    "\n",
    "Neste artigo foi estudado uma rede neural profunda (DNN) baseada em autoencoder de denoising esparso (SDAE) para a localização de direção (DF) de pequenos veículos aéreos não tripulados (UAVs). \n",
    "\n",
    "É motivado pelos desafios práticos associados aos algoritmos DF clássicos, como MUSIC e ESPRIT,o metódo DF proposto pode ser implementado usando um receptor RF de canal unico. \n",
    "\n",
    "O grande objectivo deste artigo passar por compreender um sistema de antenas direcionais com N antenas e um receptor único que ao processar os sinais são transmitidos do drone para seu controlador ao solo, este mesmo receptor de canal único mede a potência do sinal recebido em cada antena usando um mecanismo de comutação de RF.\n",
    "\n",
    "Em seguida, estes valores de potência obtidos são alimentados para a rede neural profunda (DNN) baseada em denoising esparsa (SDAE). Mais precisamente, a primeira camada oculta da rede extrai uma representação esparsa robusta dos valores de potência recebidos. Então, o resto da rede utiliza essa representação esparsa para classificar a direção do sinal do drone.\n",
    "\n",
    "Esse artigo valida o metodo proposto experimentalmente através de uma implementação de rádio definido por software (SDR) em conjunto com TensorFlow."
   ]
  },
  {
   "cell_type": "code",
   "execution_count": null,
   "metadata": {},
   "outputs": [],
   "source": []
  }
 ],
 "metadata": {
  "kernelspec": {
   "display_name": "Python 3",
   "language": "python",
   "name": "python3"
  },
  "language_info": {
   "codemirror_mode": {
    "name": "ipython",
    "version": 3
   },
   "file_extension": ".py",
   "mimetype": "text/x-python",
   "name": "python",
   "nbconvert_exporter": "python",
   "pygments_lexer": "ipython3",
   "version": "3.7.6"
  }
 },
 "nbformat": 4,
 "nbformat_minor": 4
}
