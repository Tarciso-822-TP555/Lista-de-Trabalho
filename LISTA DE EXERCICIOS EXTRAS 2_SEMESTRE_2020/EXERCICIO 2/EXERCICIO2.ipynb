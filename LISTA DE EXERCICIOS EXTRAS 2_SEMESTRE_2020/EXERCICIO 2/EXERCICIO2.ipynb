{
 "cells": [
  {
   "cell_type": "markdown",
   "metadata": {},
   "source": [
    "# EXERCICIO 2"
   ]
  },
  {
   "cell_type": "code",
   "execution_count": 1,
   "metadata": {},
   "outputs": [],
   "source": [
    "import numpy as np\n",
    "import math"
   ]
  },
  {
   "cell_type": "markdown",
   "metadata": {},
   "source": [
    "## Tabela de frequências [Classificação de crédito]"
   ]
  },
  {
   "cell_type": "markdown",
   "metadata": {},
   "source": [
    "| Classificação de crédito | Compra o PC | Frequência |\n",
    "| :---:        | :---:  |      :---: |\n",
    "| Boa     | Sim    | 6          |\n",
    "| Boa     | Não    | 2          |\n",
    "| Excelente       | Sim    | 3          |\n",
    "| Excelente       | Não    | 3          |\n",
    "\n",
    "\n",
    "| Classificação de crédito | Compra o PC | Probabilidade |\n",
    "| :---:        | :---:  |      :---: |\n",
    "| Boa     | Sim    | 6/9          |\n",
    "| Boa     | Não    | 2/5          |\n",
    "| Excelente       | Sim    | 3/9          |\n",
    "| Excelente       | Não    | 3/5          |"
   ]
  },
  {
   "cell_type": "markdown",
   "metadata": {},
   "source": [
    "# Tabela de frequências [renda]"
   ]
  },
  {
   "cell_type": "markdown",
   "metadata": {},
   "source": [
    "| Renda | Compra o PC | Frequência |\n",
    "| :---:        | :---:  |      :---: |\n",
    "| Alta     | Sim    | 2          |\n",
    "| Alta     | Não    | 2          |\n",
    "| Média       | Sim    | 4          |\n",
    "| Média       | Não    | 2          |\n",
    "| Baixa       | Sim    | 3          |\n",
    "| Baixa       | Não    | 1          |\n",
    "\n",
    "\n",
    "| Renda | Compra o PC | Probabilidades |\n",
    "| :---:        | :---:  |      :---: |\n",
    "| Alta     | Sim    | 2/9          |\n",
    "| Alta     | Não    | 2/5          |\n",
    "| Média       | Sim    | 4/9          |\n",
    "| Média       | Não    | 2/5          |\n",
    "| Baixa       | Sim    | 3/9          |\n",
    "| Baixa       | Não    | 1/5        |"
   ]
  },
  {
   "cell_type": "markdown",
   "metadata": {},
   "source": [
    "# Tabela de frequências [idade]"
   ]
  },
  {
   "cell_type": "markdown",
   "metadata": {},
   "source": [
    "| Idade | Compra o PC | Frequência |\n",
    "| :---:        | :---:  |      :---: |\n",
    "| <=30     | Sim    | 2          |\n",
    "| <=30     | Não    | 3          |\n",
    "| 31 a 40       | Sim    | 4          |\n",
    "| 31 a 40       | Não    | 0          |\n",
    "| >40       | Sim    | 3          |\n",
    "| >40       | Não    | 2          |\n",
    "\n",
    "\n",
    "| Idade | Compra o PC | Probabilidades |\n",
    "| :---:        | :---:  |      :---: |\n",
    "| <=30     | Sim    | 2/9          |\n",
    "| <=30     | Não    | 3/5          |\n",
    "| 31 a 40       | Sim    | 4/9          |\n",
    "| 31 a 40       | Não    | 0/5          |\n",
    "| >40       | Sim    | 3/9          |\n",
    "| >40       | Não    | 2/5          |"
   ]
  },
  {
   "cell_type": "markdown",
   "metadata": {},
   "source": [
    "# Tabela de frequências [estudante]"
   ]
  },
  {
   "cell_type": "markdown",
   "metadata": {},
   "source": [
    "| Estudante | Compra o PC | Frequência |\n",
    "| :---:        | :---:  |      :---: |\n",
    "| Sim     | Sim    | 6          |\n",
    "| Sim     | Não    | 1          |\n",
    "| Não       | Sim    | 3          |\n",
    "| Não       | Não    | 4          |\n",
    "\n",
    "\n",
    "| Estudante | Compra o PC | Frequência |\n",
    "| :---:        | :---:  |      :---: |\n",
    "| Sim     | Sim    | 6/9          |\n",
    "| Sim     | Não    | 1/5          |\n",
    "| Não       | Sim    | 3/9          |\n",
    "| Não       | Não    | 4/5          |"
   ]
  },
  {
   "cell_type": "markdown",
   "metadata": {},
   "source": [
    "### X = P(Idade<=30, renda=Média, Estudante=Sim, Crédito=Boa )"
   ]
  },
  {
   "cell_type": "code",
   "execution_count": 7,
   "metadata": {},
   "outputs": [
    {
     "name": "stdout",
     "output_type": "stream",
     "text": [
      "0.028218694885361547\n"
     ]
    }
   ],
   "source": [
    "P_Idade_Menor30_Pagar = 2/9\n",
    "P_Renda_Media_Pagar = 4/9\n",
    "P_Estudante_Pagar = 6/9\n",
    "P_Credito_Boa = 6/9\n",
    "\n",
    "P_Comprar = 9/14\n",
    "\n",
    "P_Comprar_X = P_Idade_Menor30_Pagar * P_Renda_Media_Pagar * P_Estudante_Pagar * P_Credito_Boa * P_Comprar\n",
    "\n",
    "\n",
    "print(P_Comprar_X)"
   ]
  },
  {
   "cell_type": "code",
   "execution_count": 8,
   "metadata": {},
   "outputs": [
    {
     "name": "stdout",
     "output_type": "stream",
     "text": [
      "0.006857142857142858\n"
     ]
    }
   ],
   "source": [
    "P_Idade_Menor30_NotPagar = 3/5\n",
    "P_Renda_Media_NotPagar = 2/5\n",
    "P_Estudante_NotPagar = 1/5\n",
    "P_Credito_Boa = 2/5\n",
    "P_NotComprar = 5/14\n",
    "\n",
    "P_NotComprar_X = P_Idade_Menor30_NotPagar * P_Renda_Media_NotPagar * P_Estudante_NotPagar * P_Credito_Boa * P_NotComprar\n",
    "\n",
    "print(P_NotComprar_X)"
   ]
  },
  {
   "cell_type": "code",
   "execution_count": 9,
   "metadata": {},
   "outputs": [
    {
     "name": "stdout",
     "output_type": "stream",
     "text": [
      "Probabilidade de comprar  0.8045052292839904\n"
     ]
    }
   ],
   "source": [
    "p_Comprar_Total = P_Comprar_X/ (P_Comprar_X + P_NotComprar_X)\n",
    "print('Probabilidade de comprar ',p_Comprar_Total)"
   ]
  },
  {
   "cell_type": "code",
   "execution_count": 10,
   "metadata": {},
   "outputs": [
    {
     "name": "stdout",
     "output_type": "stream",
     "text": [
      "Probabilidade de não comprar  0.1954947707160097\n"
     ]
    }
   ],
   "source": [
    "p_NotComprar_Total = P_NotComprar_X/ (P_Comprar_X + P_NotComprar_X)\n",
    "print('Probabilidade de não comprar ',p_NotComprar_Total)"
   ]
  },
  {
   "cell_type": "markdown",
   "metadata": {},
   "source": [
    "**Baseado nas probabilidades encontradas, esta pessoa compraria ou não o PC? Apresente todos os cálculos necessários para se calcular as probabilidades.**\n",
    "\n",
    "R: Baseado nas probabilidades encontradas, a pessoa compraria o PC"
   ]
  },
  {
   "cell_type": "code",
   "execution_count": null,
   "metadata": {},
   "outputs": [],
   "source": []
  },
  {
   "cell_type": "code",
   "execution_count": null,
   "metadata": {},
   "outputs": [],
   "source": []
  },
  {
   "cell_type": "code",
   "execution_count": null,
   "metadata": {},
   "outputs": [],
   "source": []
  }
 ],
 "metadata": {
  "kernelspec": {
   "display_name": "Python 3",
   "language": "python",
   "name": "python3"
  },
  "language_info": {
   "codemirror_mode": {
    "name": "ipython",
    "version": 3
   },
   "file_extension": ".py",
   "mimetype": "text/x-python",
   "name": "python",
   "nbconvert_exporter": "python",
   "pygments_lexer": "ipython3",
   "version": "3.8.3"
  }
 },
 "nbformat": 4,
 "nbformat_minor": 2
}
