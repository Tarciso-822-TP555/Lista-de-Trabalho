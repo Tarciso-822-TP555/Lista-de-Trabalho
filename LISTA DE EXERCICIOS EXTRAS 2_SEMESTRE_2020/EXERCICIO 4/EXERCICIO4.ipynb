{
 "cells": [
  {
   "cell_type": "markdown",
   "metadata": {},
   "source": [
    "# EXERCICIO4"
   ]
  },
  {
   "cell_type": "code",
   "execution_count": 1,
   "metadata": {},
   "outputs": [],
   "source": [
    "# Import all necessary libraries.\n",
    "from sklearn.datasets import make_blobs\n",
    "from sklearn.cluster import KMeans\n",
    "import matplotlib.pyplot as plt\n",
    "import numpy as np\n",
    "import math  \n",
    "from sklearn.metrics import silhouette_samples, silhouette_score\n",
    "from scipy.special import erfc\n",
    "from sklearn.neighbors import KNeighborsClassifier"
   ]
  },
  {
   "cell_type": "code",
   "execution_count": 2,
   "metadata": {},
   "outputs": [],
   "source": [
    "mapping_table = [-3-3j, -3-1j, -3+3j, -3+1j, -1-3j, -1-1j, -1+3j, -1+1j, 3-3j, 3-1j, 3+3j, 3+1j, 1-3j, 1-1j, 1+3j, 1+1j]\n",
    "\n",
    "def mod(V):\n",
    "    ip = np.zeros((len(V),1),dtype=complex)\n",
    "    inc = 0\n",
    "    for v in V:\n",
    "        if(v==0):\n",
    "            ip[inc] = mapping_table[0]\n",
    "        elif(v==1):\n",
    "            ip[inc] = mapping_table[1]\n",
    "        elif(v==2):\n",
    "            ip[inc] = mapping_table[2]\n",
    "        elif(v==3):\n",
    "            ip[inc] = mapping_table[3]\n",
    "        elif(v==4):\n",
    "            ip[inc] = mapping_table[4]\n",
    "        elif(v==5):\n",
    "            ip[inc] = mapping_table[5]\n",
    "        elif(v==6):\n",
    "            ip[inc] = mapping_table[6]\n",
    "        elif(v==7):\n",
    "            ip[inc] = mapping_table[7]\n",
    "        elif(v==8):\n",
    "            ip[inc] = mapping_table[8]\n",
    "        elif(v==9):\n",
    "            ip[inc] = mapping_table[9]\n",
    "        elif(v==10):\n",
    "            ip[inc] = mapping_table[10]\n",
    "        elif(v==11):\n",
    "            ip[inc] = mapping_table[11]\n",
    "        elif(v==12):\n",
    "            ip[inc] = mapping_table[12]\n",
    "        elif(v==13):\n",
    "            ip[inc] = mapping_table[13]\n",
    "        elif(v==14):\n",
    "            ip[inc] = mapping_table[14]\n",
    "        else:\n",
    "            ip[inc] = mapping_table[15]\n",
    "            \n",
    "        inc += 1\n",
    "    # Normalization of energy to 1.\n",
    "    s = (1/np.sqrt(10))*ip;\n",
    "    return s\n",
    "\n",
    "\n",
    "\n",
    "def demod(c):\n",
    "    c_seq = mod(np.array([0,1,2,3,4,5,6,7,8,9,10,11,12,13,14,15]))\n",
    "    c_seq = c_seq[:,0]\n",
    "    e = []\n",
    "    for i in range(0,len(c_seq)):\n",
    "        e.append(np.abs(c_seq[i] - c)**2)\n",
    "    return e.index(np.min(e))"
   ]
  },
  {
   "cell_type": "code",
   "execution_count": 4,
   "metadata": {},
   "outputs": [],
   "source": [
    "# Number of 16QAM symbols to be transmitted.\n",
    "N = 1000000"
   ]
  },
  {
   "cell_type": "code",
   "execution_count": 5,
   "metadata": {},
   "outputs": [
    {
     "name": "stdout",
     "output_type": "stream",
     "text": [
      "Es/N0 dB: -2\n",
      "Es/N0 dB: 0\n",
      "Es/N0 dB: 2\n",
      "Es/N0 dB: 4\n",
      "Es/N0 dB: 6\n",
      "Es/N0 dB: 8\n",
      "Es/N0 dB: 10\n",
      "Es/N0 dB: 12\n",
      "Es/N0 dB: 14\n",
      "Es/N0 dB: 16\n",
      "Es/N0 dB: 18\n",
      "Es/N0 dB: 20\n"
     ]
    }
   ],
   "source": [
    "# Create Es/N0 vector.\n",
    "EsN0dB = np.arange(-2,22,2)\n",
    "\n",
    "ser_simu = np.zeros(len(EsN0dB))\n",
    "ser_theo = np.zeros(len(EsN0dB))\n",
    "\n",
    "ber_theo = ber_simu = np.zeros(len(EsN0dB))\n",
    "    \n",
    "for idx in range(0,len(EsN0dB)):    \n",
    "\n",
    "    print('Es/N0 dB:', EsN0dB[idx])\n",
    "    \n",
    "    EsN0Lin = 10.0**(-(EsN0dB[idx]/10.0))\n",
    "    \n",
    "    # Generate N binary symbols.\n",
    "    V = np.random.randint(0,16,(N,1))\n",
    "    \n",
    "    \n",
    "    # Modulate binary stream into QPSK symbols.\n",
    "    s = mod(V)\n",
    "    \n",
    "    \n",
    "    # Generate noise vector. \n",
    "    # Divide by two once the theoretical ber uses a complex Normal pdf with variance of each part = 1/2.\n",
    "    noise = np.sqrt(1.0/2.0)*(np.random.randn(N, 1) + 1j*np.random.randn(N, 1))\n",
    "   \n",
    "\n",
    "    # Pass symbols through AWGN channel.\n",
    "    y = s + np.sqrt(EsN0Lin)*noise\n",
    "    \n",
    "    Y = np.c_[y.real, y.imag]\n",
    "    \n",
    "    # Fit models for real and imaginary parts.\n",
    "    km = KNeighborsClassifier(n_neighbors=16)\n",
    "\n",
    "    #km.fit(x_train, y_train)\n",
    "    km.fit(Y,V[:,0])\n",
    "    \n",
    "    # Prediction.\n",
    "    detected = km.predict(Y)\n",
    "    \n",
    "    # Simulated QPSK BER.\n",
    "    error = 0\n",
    "    for i in range(0, len(V)):\n",
    "        #pred = V[detected[i]]\n",
    "        #print(pred)\n",
    "        #d = demod(pred)\n",
    "        if((V[i,0] != detected[i])==True): \n",
    "            error = error + 1\n",
    "    \n",
    "    ser_simu[idx] = 1.0 * error / len(V)\n",
    "    \n",
    "    M = 16\n",
    "    k = np.sqrt(3/(2*(M-1)))\n",
    "    EsN0 = 10.0**(EsN0dB[idx]/10.0)\n",
    "    ser_theo[idx] = 2*(1 - (1/np.sqrt(M)) )*erfc( k*np.sqrt(EsN0)   ) - ( 1 - (2/np.sqrt(M)) + (1/M) )*(erfc(  k*np.sqrt(EsN0) ) )**2.0"
   ]
  },
  {
   "cell_type": "code",
   "execution_count": 6,
   "metadata": {},
   "outputs": [
    {
     "name": "stdout",
     "output_type": "stream",
     "text": [
      "Es/N0:-2 \t- SER: 7.131160e-01\n",
      "Es/N0:0 \t- SER: 6.739160e-01\n",
      "Es/N0:2 \t- SER: 6.206270e-01\n",
      "Es/N0:4 \t- SER: 5.479920e-01\n",
      "Es/N0:6 \t- SER: 4.526480e-01\n",
      "Es/N0:8 \t- SER: 3.370310e-01\n",
      "Es/N0:10 \t- SER: 2.126060e-01\n",
      "Es/N0:12 \t- SER: 1.049380e-01\n",
      "Es/N0:14 \t- SER: 3.583500e-02\n",
      "Es/N0:16 \t- SER: 6.907000e-03\n",
      "Es/N0:18 \t- SER: 5.740000e-04\n",
      "Es/N0:20 \t- SER: 1.200000e-05\n"
     ]
    }
   ],
   "source": [
    "# Print Es/N0 versus SER values.\n",
    "for i in range(0,len(ser_simu)): print('Es/N0:%d \\t- SER: %e' % (EsN0dB[i], ser_simu[i]))"
   ]
  },
  {
   "cell_type": "code",
   "execution_count": 7,
   "metadata": {},
   "outputs": [
    {
     "data": {
      "image/png": "[encoded data removed]",
      "text/plain": [
       "<Figure size 504x504 with 1 Axes>"
      ]
     },
     "metadata": {
      "needs_background": "light"
     },
     "output_type": "display_data"
    }
   ],
   "source": [
    "# Plot Es/N0 versus BER values.\n",
    "fig = plt.figure(figsize=(7,7))\n",
    "plt.plot(EsN0dB, ser_theo, label='theoretical')\n",
    "plt.plot(EsN0dB, ser_simu, 'ro', label='simulated')\n",
    "plt.xscale('linear')\n",
    "plt.yscale('log')\n",
    "plt.xlabel('Es/N0 [dB]')\n",
    "plt.ylabel('SER')\n",
    "plt.grid(True)\n",
    "plt.title('16 QAM detection')\n",
    "plt.legend()\n",
    "#plt.xlim([-10, 10])\n",
    "#plt.ylim([1e-5, 1])\n",
    "plt.show()"
   ]
  },
  {
   "cell_type": "markdown",
   "metadata": {},
   "source": [
    "**C. Podemos dizer que a curva simulada se aproxima da curva teórica da SER?**\n",
    "\n",
    "R: Sim, podemos dizer que a curva simulada se aproxima da teórica da SER"
   ]
  },
  {
   "cell_type": "code",
   "execution_count": null,
   "metadata": {},
   "outputs": [],
   "source": []
  }
 ],
 "metadata": {
  "kernelspec": {
   "display_name": "Python 3",
   "language": "python",
   "name": "python3"
  },
  "language_info": {
   "codemirror_mode": {
    "name": "ipython",
    "version": 3
   },
   "file_extension": ".py",
   "mimetype": "text/x-python",
   "name": "python",
   "nbconvert_exporter": "python",
   "pygments_lexer": "ipython3",
   "version": "3.8.3"
  }
 },
 "nbformat": 4,
 "nbformat_minor": 4
}
