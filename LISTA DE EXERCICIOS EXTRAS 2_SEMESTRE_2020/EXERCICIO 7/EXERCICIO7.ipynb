{
 "cells": [
  {
   "cell_type": "markdown",
   "metadata": {},
   "source": [
    "# EXERCICIO7"
   ]
  },
  {
   "cell_type": "code",
   "execution_count": 1,
   "metadata": {},
   "outputs": [],
   "source": [
    "import numpy as np\n",
    "import matplotlib.pyplot as plt\n",
    "from matplotlib.colors import ListedColormap\n",
    "from sklearn.preprocessing import LabelEncoder, StandardScaler\n",
    "from sklearn.linear_model import Perceptron\n",
    "from sklearn.neural_network import MLPClassifier\n",
    "from sklearn.model_selection import train_test_split\n",
    "from sklearn.metrics import accuracy_score\n",
    "from sklearn.metrics import accuracy_score, roc_curve, auc, roc_auc_score\n",
    "from sklearn.metrics import confusion_matrix, accuracy_score\n",
    "import seaborn as sns"
   ]
  },
  {
   "cell_type": "code",
   "execution_count": 2,
   "metadata": {},
   "outputs": [],
   "source": [
    "def sigmoid (x):\n",
    "    return 1/(1 + np.exp(-x))\n",
    "\n",
    "def sigmoid_derivative(x):\n",
    "    return x * (1 - x)"
   ]
  },
  {
   "cell_type": "code",
   "execution_count": 3,
   "metadata": {},
   "outputs": [],
   "source": [
    "np.random.seed(0)\n",
    "\n",
    "#Input datasets\n",
    "XX = np.array([[0,0],[0,1],[1,0],[1,1]])\n",
    "YY = np.array([[0],[1],[1],[0]])\n",
    "\n",
    "epochs = 10000\n",
    "learning_rate = 0.1\n",
    "\n",
    "# Uma Input tlayer com dois neurónios\n",
    "inputLayerNeurons = 2\n",
    "\n",
    "# Uma Hidden Layer com dois neurónios\n",
    "hiddenLayerNeurons = 2\n",
    "\n",
    "# Uma Output layer com um neurónio\n",
    "outputLayerNeurons = 1\n",
    "\n",
    "# Inicialização dos pesos\n",
    "hidden_weights = np.random.uniform(size=(inputLayerNeurons,hiddenLayerNeurons))\n",
    "\n",
    "hidden_bias =np.random.uniform(size=(1,hiddenLayerNeurons))\n",
    "\n",
    "output_weights = np.random.uniform(size=(hiddenLayerNeurons,outputLayerNeurons))\n",
    "\n",
    "output_bias = np.random.uniform(size=(1,outputLayerNeurons))\n",
    "\n",
    "\n",
    "# Treinamento\n",
    "for _ in range(epochs):\n",
    "    \n",
    "    #Forward Propagation\n",
    "    hidden_layer_activation = np.dot(XX,hidden_weights)\n",
    "    hidden_layer_activation += hidden_bias\n",
    "    hidden_layer_output = sigmoid(hidden_layer_activation)\n",
    "\n",
    "    output_layer_activation = np.dot(hidden_layer_output,output_weights)\n",
    "    output_layer_activation += output_bias\n",
    "    y_pred = sigmoid(output_layer_activation)\n",
    "\n",
    "    #Backpropagation\n",
    "    error = YY - y_pred\n",
    "    d_predicted_output = error * sigmoid_derivative(y_pred)\n",
    "    \n",
    "    error_hidden_layer = d_predicted_output.dot(output_weights.T)\n",
    "    d_hidden_layer = error_hidden_layer * sigmoid_derivative(hidden_layer_output)\n",
    "\n",
    "    # Actualização de pesos e Bias\n",
    "    output_weights += hidden_layer_output.T.dot(d_predicted_output) * learning_rate\n",
    "    output_bias += np.sum(d_predicted_output,axis=0,keepdims=True) * learning_rate\n",
    "    hidden_weights += XX.T.dot(d_hidden_layer) * learning_rate\n",
    "    hidden_bias += np.sum(d_hidden_layer,axis=0,keepdims=True) * learning_rate\n",
    "\n"
   ]
  },
  {
   "cell_type": "code",
   "execution_count": 4,
   "metadata": {},
   "outputs": [
    {
     "name": "stdout",
     "output_type": "stream",
     "text": [
      "[[0]\n",
      " [1]\n",
      " [1]\n",
      " [0]]\n"
     ]
    }
   ],
   "source": [
    "print((y_pred >= 0.5  ) +0)"
   ]
  },
  {
   "cell_type": "code",
   "execution_count": 5,
   "metadata": {},
   "outputs": [
    {
     "data": {
      "image/png": "[encoded data removed]",
      "text/plain": [
       "<Figure size 360x360 with 1 Axes>"
      ]
     },
     "metadata": {},
     "output_type": "display_data"
    }
   ],
   "source": [
    "\n",
    "X = np.array([[1,0, 0],\n",
    "[1,0, 1],\n",
    "[1,1, 0],\n",
    "[1,1, 1]],\n",
    "dtype=np.double)\n",
    "\n",
    "y = np.array([0, 1, 1, 0])\n",
    "\n",
    "\n",
    "mlp = MLPClassifier(hidden_layer_sizes=(2,),\n",
    "        max_iter=10000, random_state= 0)\n",
    "    \n",
    "mlp.fit(X, y)\n",
    "\n",
    "\n",
    "x_min, x_max = np.min(X[:, 1]) - .5, np.max(X[:, 1]) + .5\n",
    "y_min, y_max = np.min(X[:, 2]) - .5, np.max(X[:, 2]) + .5\n",
    "h = 0.002 # step size in the mesh\n",
    "\n",
    "xx, yy = np.meshgrid(np.arange(x_min, x_max, h), np.arange(y_min, y_max, h))\n",
    "\n",
    "xAxis = xx.ravel()[:, np.newaxis]\n",
    "    \n",
    "yAxis = yy.ravel()[:, np.newaxis]    \n",
    "    \n",
    "hstack = np.hstack((xAxis, yAxis))\n",
    "    \n",
    "# Introduzindo vector de 1s\n",
    "hstack = (np.c_[np.ones((len(hstack), 1)),  hstack])\n",
    "\n",
    "Z = mlp.predict_proba(hstack)[:, 1]\n",
    "Z = Z.reshape(xx.shape)\n",
    "\n",
    "plt.figure(1, figsize=(5, 5))\n",
    "plt.pcolormesh(xx, yy, Z, cmap=plt.cm.Paired)\n",
    "    \n",
    "plt.scatter(X[:, 1], X[:, 2], c=y, edgecolors='k', cmap=plt.cm.Paired)\n",
    "plt.xlabel('$x_1$', fontsize=14)\n",
    "plt.ylabel('$x_2$', fontsize=14)\n",
    "    \n",
    "plt.xlim(xx.min(), xx.max())\n",
    "plt.ylim(yy.min(), yy.max())\n",
    "plt.xticks(())\n",
    "plt.yticks(())\n",
    "plt.title('B) Fronteira de decisão XOR')\n",
    "\n",
    "\n",
    "plt.show()\n",
    "pred = mlp.predict_proba(X)"
   ]
  },
  {
   "cell_type": "code",
   "execution_count": 6,
   "metadata": {},
   "outputs": [
    {
     "name": "stdout",
     "output_type": "stream",
     "text": [
      "Score do teste  1.0\n"
     ]
    }
   ],
   "source": [
    "print('Score do teste ', mlp.score(X,y))"
   ]
  },
  {
   "cell_type": "code",
   "execution_count": 7,
   "metadata": {},
   "outputs": [
    {
     "data": {
      "image/png": "[encoded data removed]",
      "text/plain": [
       "<Figure size 360x360 with 1 Axes>"
      ]
     },
     "metadata": {
      "needs_background": "light"
     },
     "output_type": "display_data"
    }
   ],
   "source": [
    "y_reshape = y.reshape(len(y),1)\n",
    "\n",
    "\n",
    "\n",
    "y_pred_class = (y_pred > 0.5) +0\n",
    "\n",
    "\n",
    "\n",
    "\n",
    "# Plot the confusion matrix\n",
    "fig = plt.figure(figsize=(5,5))\n",
    "mat = confusion_matrix(y_reshape, y_pred_class)\n",
    "sns.set()\n",
    "sns.heatmap(mat.T, square=True, annot=True, fmt='d', cbar=False, xticklabels=['0','1'], yticklabels=['0','1'], cmap=\"Blues\")\n",
    "plt.xlabel('true label')\n",
    "plt.ylabel('predicted label')\n",
    "plt.title('c) Matriz de confusão')\n",
    "plt.show()\n"
   ]
  },
  {
   "cell_type": "code",
   "execution_count": 8,
   "metadata": {},
   "outputs": [
    {
     "data": {
      "image/png": "[encoded data removed]",
      "text/plain": [
       "<Figure size 432x288 with 1 Axes>"
      ]
     },
     "metadata": {},
     "output_type": "display_data"
    }
   ],
   "source": [
    "\n",
    "y_reshape = y.reshape(len(y),1)\n",
    "# Getting the probabilities for each class.\n",
    "y_prob = pred\n",
    "# Calculating ROC curve and ROC AUC.\n",
    "false_positive_rate, true_positive_rate, thresholds = roc_curve(y_reshape, y_prob[:, 1])\n",
    "roc_auc = auc(false_positive_rate, true_positive_rate)\n",
    "# Plotting ROC curve.\n",
    "lw = 2\n",
    "plt.plot(false_positive_rate, true_positive_rate, color='blue', lw=lw, label='ROC curve (area = {:.4f})'.format(roc_auc))\n",
    "plt.plot([0, 1], [0, 1], color='red', lw=lw, linestyle='--', label='Random classifier')\n",
    "plt.xlabel('False Positive Rate')\n",
    "plt.ylabel('True Positive Rate')\n",
    "plt.title('D) ROC')\n",
    "plt.legend(loc=\"lower right\")\n",
    "plt.show()"
   ]
  },
  {
   "cell_type": "code",
   "execution_count": 9,
   "metadata": {},
   "outputs": [
    {
     "name": "stdout",
     "output_type": "stream",
     "text": [
      "Área Abaixo da curva 1.0\n"
     ]
    }
   ],
   "source": [
    "print('Área Abaixo da curva', roc_auc_score(y_reshape, y_prob[:, 1]))"
   ]
  },
  {
   "cell_type": "markdown",
   "metadata": {},
   "source": [
    "**E. Baseado na curva ROC, qual a área sob a curva?**\n",
    "\n",
    "R: A área sob a curva será 0"
   ]
  },
  {
   "cell_type": "code",
   "execution_count": null,
   "metadata": {},
   "outputs": [],
   "source": []
  },
  {
   "cell_type": "code",
   "execution_count": null,
   "metadata": {},
   "outputs": [],
   "source": []
  }
 ],
 "metadata": {
  "kernelspec": {
   "display_name": "Python 3",
   "language": "python",
   "name": "python3"
  },
  "language_info": {
   "codemirror_mode": {
    "name": "ipython",
    "version": 3
   },
   "file_extension": ".py",
   "mimetype": "text/x-python",
   "name": "python",
   "nbconvert_exporter": "python",
   "pygments_lexer": "ipython3",
   "version": "3.8.3"
  }
 },
 "nbformat": 4,
 "nbformat_minor": 4
}
