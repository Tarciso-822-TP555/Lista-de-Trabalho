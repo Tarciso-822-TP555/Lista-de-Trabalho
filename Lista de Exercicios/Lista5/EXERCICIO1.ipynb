{
 "cells": [
  {
   "cell_type": "markdown",
   "metadata": {},
   "source": [
    "# EXERCICIO1"
   ]
  },
  {
   "cell_type": "markdown",
   "metadata": {},
   "source": [
    "**Dado as funções lógicas: OR, AND e XOR, representadas pelas tabelas e gráficos abaixo. Responda quais podem ser classificados com um classificador linear, ou seja, uma linha reta, que separa as duas classes. Caso algum deles não possa ser separado linearmente, que tipo de classificador seria necessário?**\n",
    "\n",
    "R: As funções OR e AND podem ser separadas por uma linha recta. No entanto, o XOR não pode ser separado linearmente. Para o XOR seria necessário um classificador polinomial"
   ]
  },
  {
   "cell_type": "code",
   "execution_count": null,
   "metadata": {},
   "outputs": [],
   "source": [
    "import numpy as np\n",
    "import matplotlib.pyplot as plt\n",
    "from sklearn.datasets import load_digits\n",
    "from sklearn.model_selection import train_test_split\n",
    "from sklearn.metrics import confusion_matrix, accuracy_score\n",
    "from sklearn.datasets import make_circles\n",
    "from scipy.special import expit\n",
    "import seaborn as sns\n",
    "from sklearn.datasets import make_blobs\n",
    "from sklearn.metrics import accuracy_score, roc_curve, auc\n",
    "from sklearn.metrics import classification_report"
   ]
  },
  {
   "cell_type": "markdown",
   "metadata": {},
   "source": [
    "## OR"
   ]
  },
  {
   "cell_type": "code",
   "execution_count": 2,
   "metadata": {},
   "outputs": [],
   "source": [
    "np.random.seed(42)\n",
    "x = np.random.uniform(0, 8, (4, 2))\n",
    "\n",
    "x[0,0] = 0\n",
    "x[0,1] = 0\n",
    "x[1,0] = 0\n",
    "x[1,1] = 1\n",
    "x[2,0] = 1\n",
    "x[2,1] = 0\n",
    "x[3,0] = 1\n",
    "x[3,1] = 1\n",
    "\n",
    "y = np.random.uniform(0, 4, 4)\n",
    "\n",
    "y[0] = 0\n",
    "y[1] = 1\n",
    "y[2] = 1\n",
    "y[3] = 1\n",
    "Y = y\n",
    "\n",
    "y = y.reshape(len(y), 1)"
   ]
  },
  {
   "cell_type": "code",
   "execution_count": 3,
   "metadata": {},
   "outputs": [
    {
     "data": {
      "image/png": "[encoded data removed]",
      "text/plain": [
       "<Figure size 360x360 with 1 Axes>"
      ]
     },
     "metadata": {
      "needs_background": "light"
     },
     "output_type": "display_data"
    }
   ],
   "source": [
    "idx0 = np.argwhere(Y == 0)\n",
    "idx1 = np.argwhere(Y == 1)\n",
    "#print(x[idx0,0])\n",
    "#print(x[idx1,0])\n",
    "\n",
    "fig = plt.figure(figsize=(5,5))\n",
    "plt.plot(x[idx0,0], x[idx0,1], '.', label='Class 0')\n",
    "plt.plot(x[idx1,0], x[idx1,1], 'rx', label='Class 1')\n",
    "plt.xlabel('$x_1$')\n",
    "plt.ylabel('$x_2$')\n",
    "plt.legend()\n",
    "plt.show()"
   ]
  },
  {
   "cell_type": "code",
   "execution_count": 4,
   "metadata": {},
   "outputs": [],
   "source": [
    "def error_function(x, a, y):    \n",
    "    h = expit(x.dot(a))\n",
    "    error = -(1/len(y))*np.sum( y.T.dot(np.log(h)) + (1-y).T.dot(np.log((1-h) )) )\n",
    "    return error\n",
    "\n",
    "def classifier(x, a):\n",
    "    h = expit(x.dot(a))\n",
    "    c = np.zeros((len(h), 1))\n",
    "    for i in range(0, len(h)):\n",
    "        if(h[i] >= 0.5):\n",
    "            c[i,0]=1.0\n",
    "    return c\n",
    "\n",
    "def predict_prob(x, a):\n",
    "    h1 = expit(x.dot(a))\n",
    "    h0 = 1 - h1\n",
    "    h = np.c_[h0, h1]\n",
    "    return h"
   ]
  },
  {
   "cell_type": "code",
   "execution_count": 5,
   "metadata": {},
   "outputs": [],
   "source": [
    "x_train = x\n",
    "y_train = y\n",
    "x_train = np.c_[np.ones((len(y_train), 1)), x_train]"
   ]
  },
  {
   "cell_type": "code",
   "execution_count": 6,
   "metadata": {},
   "outputs": [],
   "source": [
    "\n",
    "\n",
    "# Batch gradient descent solution.\n",
    "\n",
    "# learning rate.\n",
    "alpha = 0.09\n",
    "# Maximum number of iterations.\n",
    "n_iterations = 1000\n",
    "\n",
    "# Random initialization of parameters.\n",
    "a = np.random.randn(x_train.shape[1],1)\n",
    "\n",
    "# Create array for storing error values.\n",
    "Jgd = np.zeros(n_iterations+1)\n",
    "#Jgd_v = np.zeros(n_iterations+1)\n",
    "\n",
    "# Calculate initial error.\n",
    "Jgd[0] = error_function(x_train, a, y_train)\n",
    "#Jgd_v[0] = error_function(x_test, a, y_test)\n",
    "\n",
    "# Batch gradient-descent loop.\n",
    "minimum_val_error = float(\"inf\")\n",
    "iteration = 0\n",
    "error = 1\n",
    "#print(y)\n",
    "while iteration < n_iterations:\n",
    "    gradients = -1/len(y_train)*x_train.T.dot(y_train - expit(x_train.dot(a)) )\n",
    "    a = a - alpha * gradients\n",
    "    #print(gradients)\n",
    "    Jgd[iteration+1] = error_function(x_train, a, y_train)\n",
    "    #Jgd_v[iteration+1] = error_function(x_test, a, y_test)\n",
    "    error = np.abs(Jgd[iteration+1] - Jgd[iteration])\n",
    "    # Store weights for the smallest error ever.\n",
    "    #if(Jgd_v[iteration+1] < minimum_val_error):\n",
    "    if(Jgd[iteration+1] < minimum_val_error):\n",
    "        minimum_val_error = Jgd[iteration+1]\n",
    "        a_min = a        \n",
    "    iteration = iteration + 1"
   ]
  },
  {
   "cell_type": "code",
   "execution_count": 7,
   "metadata": {},
   "outputs": [
    {
     "data": {
      "image/png": "[encoded data removed]",
      "text/plain": [
       "<Figure size 504x504 with 1 Axes>"
      ]
     },
     "metadata": {
      "needs_background": "light"
     },
     "output_type": "display_data"
    }
   ],
   "source": [
    "fig = plt.figure(figsize=(7,7))\n",
    "plt.plot(np.arange(0, iteration), Jgd[0:iteration], label='treinamento')\n",
    "#plt.plot(np.arange(0, iteration), Jgd_v[0:iteration], label='validação')\n",
    "plt.xlim((0, iteration))\n",
    "plt.yscale('log')\n",
    "plt.xlabel('Iteration')\n",
    "plt.ylabel('$J_e$')\n",
    "plt.title('Error vs. Iteration number')\n",
    "plt.legend()\n",
    "plt.show()"
   ]
  },
  {
   "cell_type": "code",
   "execution_count": 8,
   "metadata": {},
   "outputs": [
    {
     "name": "stdout",
     "output_type": "stream",
     "text": [
      "10000\n"
     ]
    },
    {
     "data": {
      "image/png": "[encoded data removed]",
      "text/plain": [
       "<Figure size 360x360 with 1 Axes>"
      ]
     },
     "metadata": {},
     "output_type": "display_data"
    }
   ],
   "source": [
    "# Plot the decision boundary. For that, we will assign a color to each\n",
    "# point in the mesh [x_min, x_max]x[y_min, y_max].\n",
    "x_min, x_max = x[:, 0].min() - .5, x[:, 0].max() + .5\n",
    "y_min, y_max = x[:, 1].min() - .5, x[:, 1].max() + .5\n",
    "h = .02  # step size in the mesh\n",
    "xx, yy = np.meshgrid(np.arange(x_min, x_max, h), np.arange(y_min, y_max, h))\n",
    "\n",
    "print(len(xx.ravel()))\n",
    "\n",
    "\n",
    "Z = classifier(np.c_[np.ones((len(xx.ravel()), 1)), xx.ravel(), yy.ravel()], a_min)\n",
    "\n",
    "# Put the result into a color plot\n",
    "Z = Z.reshape(xx.shape)\n",
    "plt.figure(1, figsize=(5, 5))\n",
    "plt.pcolormesh(xx, yy, Z, cmap=plt.cm.Paired)\n",
    "\n",
    "# Plot also the training points\n",
    "plt.scatter(x[:, 0], x[:, 1], c=Y, edgecolors='k', cmap=plt.cm.Paired)\n",
    "plt.xlabel('$x_1$')\n",
    "plt.ylabel('$x_2$')\n",
    "\n",
    "plt.xlim(xx.min(), xx.max())\n",
    "plt.ylim(yy.min(), yy.max())\n",
    "plt.xticks(())\n",
    "plt.yticks(())\n",
    "\n",
    "plt.show()\n"
   ]
  },
  {
   "cell_type": "code",
   "execution_count": 9,
   "metadata": {},
   "outputs": [
    {
     "data": {
      "image/png": "[encoded data removed]",
      "text/plain": [
       "<Figure size 360x360 with 1 Axes>"
      ]
     },
     "metadata": {
      "needs_background": "light"
     },
     "output_type": "display_data"
    }
   ],
   "source": [
    "\n",
    "y_pred_class = classifier(x_train, a_min)\n",
    "\n",
    "# Plot the confusion matrix\n",
    "fig = plt.figure(figsize=(5,5))\n",
    "mat = confusion_matrix(y_train, y_pred_class)\n",
    "sns.set()\n",
    "sns.heatmap(mat.T, square=True, annot=True, fmt='d', cbar=False, xticklabels=['0','1'], yticklabels=['0','1'], cmap=\"Blues\")\n",
    "plt.xlabel('true label')\n",
    "plt.ylabel('predicted label')\n",
    "plt.show()\n"
   ]
  },
  {
   "cell_type": "code",
   "execution_count": 10,
   "metadata": {},
   "outputs": [
    {
     "data": {
      "image/png": "[encoded data removed]",
      "text/plain": [
       "<Figure size 432x288 with 1 Axes>"
      ]
     },
     "metadata": {},
     "output_type": "display_data"
    }
   ],
   "source": [
    "\n",
    "# Getting the probabilities for each class.\n",
    "y_prob = predict_prob(x_train, a_min)\n",
    "# Calculating ROC curve and ROC AUC.\n",
    "false_positive_rate, true_positive_rate, thresholds = roc_curve(y_train, y_prob[:, 1])\n",
    "roc_auc = auc(false_positive_rate, true_positive_rate)\n",
    "# Plotting ROC curve.\n",
    "lw = 2\n",
    "plt.plot(false_positive_rate, true_positive_rate, color='blue', lw=lw, label='ROC curve (area = {:.4f})'.format(roc_auc))\n",
    "plt.plot([0, 1], [0, 1], color='red', lw=lw, linestyle='--', label='Random classifier')\n",
    "plt.xlabel('False Positive Rate')\n",
    "plt.ylabel('True Positive Rate')\n",
    "plt.title('ROC')\n",
    "plt.legend(loc=\"lower right\")\n",
    "plt.show()\n"
   ]
  },
  {
   "cell_type": "code",
   "execution_count": 11,
   "metadata": {},
   "outputs": [
    {
     "name": "stdout",
     "output_type": "stream",
     "text": [
      "              precision    recall  f1-score   support\n",
      "\n",
      "         0.0       1.00      1.00      1.00         1\n",
      "         1.0       1.00      1.00      1.00         3\n",
      "\n",
      "    accuracy                           1.00         4\n",
      "   macro avg       1.00      1.00      1.00         4\n",
      "weighted avg       1.00      1.00      1.00         4\n",
      "\n"
     ]
    }
   ],
   "source": [
    "\n",
    "print(classification_report(y_train, y_pred_class))\n"
   ]
  },
  {
   "cell_type": "markdown",
   "metadata": {},
   "source": [
    "## AND"
   ]
  },
  {
   "cell_type": "code",
   "execution_count": 12,
   "metadata": {},
   "outputs": [],
   "source": [
    "\n",
    "x = np.random.uniform(0, 8, (4, 2))\n",
    "\n",
    "x[0,0] = 0\n",
    "x[0,1] = 0\n",
    "x[1,0] = 0\n",
    "x[1,1] = 1\n",
    "x[2,0] = 1\n",
    "x[2,1] = 0\n",
    "x[3,0] = 1\n",
    "x[3,1] = 1\n",
    "\n",
    "y = np.random.uniform(0, 4, 4)\n",
    "\n",
    "y[0] = 0\n",
    "y[1] = 0\n",
    "y[2] = 0\n",
    "y[3] = 1\n",
    "Y = y\n",
    "\n",
    "y = y.reshape(len(y), 1)\n"
   ]
  },
  {
   "cell_type": "code",
   "execution_count": 13,
   "metadata": {},
   "outputs": [
    {
     "data": {
      "image/png": "[encoded data removed]",
      "text/plain": [
       "<Figure size 360x360 with 1 Axes>"
      ]
     },
     "metadata": {},
     "output_type": "display_data"
    }
   ],
   "source": [
    "\n",
    "idx0 = np.argwhere(Y == 0)\n",
    "idx1 = np.argwhere(Y == 1)\n",
    "#print(x[idx0,0])\n",
    "#print(x[idx1,0])\n",
    "\n",
    "fig = plt.figure(figsize=(5,5))\n",
    "plt.plot(x[idx0,0], x[idx0,1], '.', label='Class 0')\n",
    "plt.plot(x[idx1,0], x[idx1,1], 'rx', label='Class 1')\n",
    "plt.xlabel('$x_1$')\n",
    "plt.ylabel('$x_2$')\n",
    "plt.legend()\n",
    "plt.show()\n"
   ]
  },
  {
   "cell_type": "code",
   "execution_count": 14,
   "metadata": {},
   "outputs": [],
   "source": [
    "\n",
    "x_train = x\n",
    "y_train = y\n",
    "x_train = np.c_[np.ones((len(y_train), 1)), x_train]\n"
   ]
  },
  {
   "cell_type": "code",
   "execution_count": 15,
   "metadata": {},
   "outputs": [],
   "source": [
    "\n",
    "# Batch gradient descent solution.\n",
    "\n",
    "# learning rate.\n",
    "alpha = 0.09\n",
    "# Maximum number of iterations.\n",
    "n_iterations = 1000\n",
    "\n",
    "# Random initialization of parameters.\n",
    "a = np.random.randn(x_train.shape[1],1)\n",
    "\n",
    "# Create array for storing error values.\n",
    "Jgd = np.zeros(n_iterations+1)\n",
    "#Jgd_v = np.zeros(n_iterations+1)\n",
    "\n",
    "# Calculate initial error.\n",
    "Jgd[0] = error_function(x_train, a, y_train)\n",
    "#Jgd_v[0] = error_function(x_test, a, y_test)\n",
    "\n",
    "# Batch gradient-descent loop.\n",
    "minimum_val_error = float(\"inf\")\n",
    "iteration = 0\n",
    "error = 1\n",
    "#print(y)\n",
    "while iteration < n_iterations:\n",
    "    gradients = -1/len(y_train)*x_train.T.dot(y_train - expit(x_train.dot(a)) )\n",
    "    a = a - alpha * gradients\n",
    "    #print(gradients)\n",
    "    Jgd[iteration+1] = error_function(x_train, a, y_train)\n",
    "    #Jgd_v[iteration+1] = error_function(x_test, a, y_test)\n",
    "    error = np.abs(Jgd[iteration+1] - Jgd[iteration])\n",
    "    # Store weights for the smallest error ever.\n",
    "    #if(Jgd_v[iteration+1] < minimum_val_error):\n",
    "    if(Jgd[iteration+1] < minimum_val_error):\n",
    "        minimum_val_error = Jgd[iteration+1]\n",
    "        a_min = a        \n",
    "    iteration = iteration + 1\n",
    "    \n"
   ]
  },
  {
   "cell_type": "code",
   "execution_count": 16,
   "metadata": {},
   "outputs": [
    {
     "name": "stdout",
     "output_type": "stream",
     "text": [
      "10000\n"
     ]
    },
    {
     "data": {
      "image/png": "[encoded data removed]",
      "text/plain": [
       "<Figure size 360x360 with 1 Axes>"
      ]
     },
     "metadata": {},
     "output_type": "display_data"
    }
   ],
   "source": [
    "# Plot the decision boundary. For that, we will assign a color to each\n",
    "# point in the mesh [x_min, x_max]x[y_min, y_max].\n",
    "x_min, x_max = x[:, 0].min() - .5, x[:, 0].max() + .5\n",
    "y_min, y_max = x[:, 1].min() - .5, x[:, 1].max() + .5\n",
    "h = .02  # step size in the mesh\n",
    "xx, yy = np.meshgrid(np.arange(x_min, x_max, h), np.arange(y_min, y_max, h))\n",
    "\n",
    "print(len(xx.ravel()))\n",
    "\n",
    "\n",
    "Z = classifier(np.c_[np.ones((len(xx.ravel()), 1)), xx.ravel(), yy.ravel()], a_min)\n",
    "\n",
    "# Put the result into a color plot\n",
    "Z = Z.reshape(xx.shape)\n",
    "plt.figure(1, figsize=(5, 5))\n",
    "plt.pcolormesh(xx, yy, Z, cmap=plt.cm.Paired)\n",
    "\n",
    "# Plot also the training points\n",
    "plt.scatter(x[:, 0], x[:, 1], c=Y, edgecolors='k', cmap=plt.cm.Paired)\n",
    "plt.xlabel('$x_1$')\n",
    "plt.ylabel('$x_2$')\n",
    "\n",
    "plt.xlim(xx.min(), xx.max())\n",
    "plt.ylim(yy.min(), yy.max())\n",
    "plt.xticks(())\n",
    "plt.yticks(())\n",
    "\n",
    "plt.show()\n"
   ]
  },
  {
   "cell_type": "code",
   "execution_count": 17,
   "metadata": {},
   "outputs": [
    {
     "data": {
      "image/png": "[encoded data removed]",
      "text/plain": [
       "<Figure size 360x360 with 1 Axes>"
      ]
     },
     "metadata": {},
     "output_type": "display_data"
    }
   ],
   "source": [
    "\n",
    "y_pred_class = classifier(x_train, a_min)\n",
    "\n",
    "# Plot the confusion matrix\n",
    "fig = plt.figure(figsize=(5,5))\n",
    "mat = confusion_matrix(y_train, y_pred_class)\n",
    "sns.set()\n",
    "sns.heatmap(mat.T, square=True, annot=True, fmt='d', cbar=False, xticklabels=['0','1'], yticklabels=['0','1'], cmap=\"Blues\")\n",
    "plt.xlabel('true label')\n",
    "plt.ylabel('predicted label')\n",
    "plt.show()\n"
   ]
  },
  {
   "cell_type": "code",
   "execution_count": 18,
   "metadata": {},
   "outputs": [
    {
     "data": {
      "image/png": "[encoded data removed]",
      "text/plain": [
       "<Figure size 432x288 with 1 Axes>"
      ]
     },
     "metadata": {},
     "output_type": "display_data"
    }
   ],
   "source": [
    "\n",
    "# Getting the probabilities for each class.\n",
    "y_prob = predict_prob(x_train, a_min)\n",
    "# Calculating ROC curve and ROC AUC.\n",
    "false_positive_rate, true_positive_rate, thresholds = roc_curve(y_train, y_prob[:, 1])\n",
    "roc_auc = auc(false_positive_rate, true_positive_rate)\n",
    "# Plotting ROC curve.\n",
    "lw = 2\n",
    "plt.plot(false_positive_rate, true_positive_rate, color='blue', lw=lw, label='ROC curve (area = {:.4f})'.format(roc_auc))\n",
    "plt.plot([0, 1], [0, 1], color='red', lw=lw, linestyle='--', label='Random classifier')\n",
    "plt.xlabel('False Positive Rate')\n",
    "plt.ylabel('True Positive Rate')\n",
    "plt.title('ROC')\n",
    "plt.legend(loc=\"lower right\")\n",
    "plt.show()\n"
   ]
  },
  {
   "cell_type": "code",
   "execution_count": 19,
   "metadata": {},
   "outputs": [
    {
     "name": "stdout",
     "output_type": "stream",
     "text": [
      "              precision    recall  f1-score   support\n",
      "\n",
      "         0.0       1.00      1.00      1.00         3\n",
      "         1.0       1.00      1.00      1.00         1\n",
      "\n",
      "    accuracy                           1.00         4\n",
      "   macro avg       1.00      1.00      1.00         4\n",
      "weighted avg       1.00      1.00      1.00         4\n",
      "\n"
     ]
    }
   ],
   "source": [
    "\n",
    "print(classification_report(y_train, y_pred_class))\n"
   ]
  }
 ],
 "metadata": {
  "kernelspec": {
   "display_name": "Python 3",
   "language": "python",
   "name": "python3"
  },
  "language_info": {
   "codemirror_mode": {
    "name": "ipython",
    "version": 3
   },
   "file_extension": ".py",
   "mimetype": "text/x-python",
   "name": "python",
   "nbconvert_exporter": "python",
   "pygments_lexer": "ipython3",
   "version": "3.8.3"
  }
 },
 "nbformat": 4,
 "nbformat_minor": 2
}
