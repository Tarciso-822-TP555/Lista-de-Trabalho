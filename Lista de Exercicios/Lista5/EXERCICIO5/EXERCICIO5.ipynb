{
 "cells": [
  {
   "cell_type": "markdown",
   "metadata": {},
   "source": [
    "**5. Suponha que você quisesse classificar fotos como externas/internas e diurnas/noturnas. Nesse caso, você deve implementar dois classificadores de regressão logística ou um classificador de regressão Softmax?**\n",
    "\n",
    "R: Utilizaria um classificador de regressão logística porque o Softmax só consegue prever em classes mutuamente exclusivas."
   ]
  },
  {
   "cell_type": "code",
   "execution_count": null,
   "metadata": {},
   "outputs": [],
   "source": []
  }
 ],
 "metadata": {
  "kernelspec": {
   "display_name": "Python 3",
   "language": "python",
   "name": "python3"
  },
  "language_info": {
   "codemirror_mode": {
    "name": "ipython",
    "version": 3
   },
   "file_extension": ".py",
   "mimetype": "text/x-python",
   "name": "python",
   "nbconvert_exporter": "python",
   "pygments_lexer": "ipython3",
   "version": "3.7.6"
  }
 },
 "nbformat": 4,
 "nbformat_minor": 2
}
