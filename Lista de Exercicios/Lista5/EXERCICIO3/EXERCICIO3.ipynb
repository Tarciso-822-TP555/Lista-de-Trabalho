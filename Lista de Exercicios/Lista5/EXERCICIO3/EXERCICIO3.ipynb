{
 "cells": [
  {
   "cell_type": "markdown",
   "metadata": {},
   "source": [
    "**3. Suponha que você deseje prever, a partir dos atributos x de um tumor, se ele é maligno (y = 1) ou benigno (y = 0). Um classificador de regressão logística gera, para um tumor específico, ha(x) = P(y = 1 | x; a) = 0.7 , portanto estima-se que haja 70% de chance de esse tumor ser maligno. Qual seria a estimativa para P(y = 0 | x; a) , ou seja, a probabilidade de o tumor ser benigno?**\n",
    "\n",
    "R: Tratando-se de um classificador de regressão logística, as chances do tumor ser benigno é dada pela probabilidade total (1), menos a probabilidade de ser maligno (0.7), o que totalizaria 0.3"
   ]
  },
  {
   "cell_type": "code",
   "execution_count": null,
   "metadata": {},
   "outputs": [],
   "source": []
  }
 ],
 "metadata": {
  "kernelspec": {
   "display_name": "Python 3",
   "language": "python",
   "name": "python3"
  },
  "language_info": {
   "codemirror_mode": {
    "name": "ipython",
    "version": 3
   },
   "file_extension": ".py",
   "mimetype": "text/x-python",
   "name": "python",
   "nbconvert_exporter": "python",
   "pygments_lexer": "ipython3",
   "version": "3.7.6"
  }
 },
 "nbformat": 4,
 "nbformat_minor": 2
}
