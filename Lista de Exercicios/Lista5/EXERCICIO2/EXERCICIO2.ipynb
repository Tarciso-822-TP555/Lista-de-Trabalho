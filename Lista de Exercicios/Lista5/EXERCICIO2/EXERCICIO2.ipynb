{
 "cells": [
  {
   "cell_type": "markdown",
   "metadata": {},
   "source": [
    "**2. Suponha que você tenha um problema de classificação com múltiplas classes, ou seja, Q > 2, (então y ∈ {1,2,…, Q}). Usando o método um-contra-todos, quantos classificadores de regressão logística diferentes você precisaria treinar para realizar a classificação destas classes?**\n",
    "\n",
    "R: Usando o método **um-contra-todos** precisaremos treinar um classificador de regressão logística para cada classe Q (treinaremos Q classificadores)"
   ]
  }
 ],
 "metadata": {
  "kernelspec": {
   "display_name": "Python 3",
   "language": "python",
   "name": "python3"
  },
  "language_info": {
   "codemirror_mode": {
    "name": "ipython",
    "version": 3
   },
   "file_extension": ".py",
   "mimetype": "text/x-python",
   "name": "python",
   "nbconvert_exporter": "python",
   "pygments_lexer": "ipython3",
   "version": "3.7.6"
  }
 },
 "nbformat": 4,
 "nbformat_minor": 2
}
