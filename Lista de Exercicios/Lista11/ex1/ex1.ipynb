{
 "cells": [
  {
   "cell_type": "markdown",
   "metadata": {},
   "source": [
    "**1. Usando-se o modelo do neurônio de McCulloch e Pitts, qual seria o valor do limiar de ativação, θ, para classificar a função booleana abaixo (dada pela tabela abaixo)? Desenhe a função de ativação e o neurônio, indicando quais entradas são inibitórias, caso haja alguma.\n",
    "(Dica: entradas inibitórias são entradas que tem seus valores ‘negados’. Vocês podem precisar ter uma ou mais entradas inibitórias para encontrar o valor de θ).**\n",
    "\n",
    "\n",
    "|  x1 |x2   |x3   |y   |\n",
    "|---|---|---|---|\n",
    "| 0  | 0  | 0  | 0  |\n",
    "| 0  |  0 | 1  | 0  |\n",
    "| 0  |  1 | 0  | 0  |\n",
    "| 0  |  1 | 1  | 0  |\n",
    "| 1  |  0 | 0  | 0  |\n",
    "| 1  |  0 | 1  | 0  |\n",
    "| 1  |  1 | 0  | 1  |\n",
    "| 1  |  1 | 1  | 0  |\n",
    "\n",
    "\n",
    "<img src=\"ex11.png\">"
   ]
  },
  {
   "cell_type": "code",
   "execution_count": null,
   "metadata": {},
   "outputs": [],
   "source": []
  }
 ],
 "metadata": {
  "kernelspec": {
   "display_name": "Python 3",
   "language": "python",
   "name": "python3"
  },
  "language_info": {
   "codemirror_mode": {
    "name": "ipython",
    "version": 3
   },
   "file_extension": ".py",
   "mimetype": "text/x-python",
   "name": "python",
   "nbconvert_exporter": "python",
   "pygments_lexer": "ipython3",
   "version": "3.6.10"
  }
 },
 "nbformat": 4,
 "nbformat_minor": 4
}
