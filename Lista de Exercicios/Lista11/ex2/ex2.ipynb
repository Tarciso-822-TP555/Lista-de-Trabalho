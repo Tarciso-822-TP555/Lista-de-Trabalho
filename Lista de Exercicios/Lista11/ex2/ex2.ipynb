{
 "cells": [
  {
   "cell_type": "markdown",
   "metadata": {},
   "source": [
    "**2. Baseado no que você aprendeu até aqui sobre o modelo do neurônio de McCulloch e Pitts e do modelo perceptron. Seria possível classificar a função booleana XOR com algum desses dois modelos? Explique os motivos pelos quais pode-se ou não realizar tal classificação.**\n",
    "\n",
    "R: Sim, é possível classificar a função booleana XOR com o modelo do neurônio McCulloch e Pitts e também com o modelo do Perceptron. No entanto, em ambos os casos isso requer que se combine mais de um neurônio, pois com um único neurónio é impossível."
   ]
  },
  {
   "cell_type": "code",
   "execution_count": null,
   "metadata": {},
   "outputs": [],
   "source": []
  }
 ],
 "metadata": {
  "kernelspec": {
   "display_name": "Python 3",
   "language": "python",
   "name": "python3"
  },
  "language_info": {
   "codemirror_mode": {
    "name": "ipython",
    "version": 3
   },
   "file_extension": ".py",
   "mimetype": "text/x-python",
   "name": "python",
   "nbconvert_exporter": "python",
   "pygments_lexer": "ipython3",
   "version": "3.6.10"
  }
 },
 "nbformat": 4,
 "nbformat_minor": 4
}
