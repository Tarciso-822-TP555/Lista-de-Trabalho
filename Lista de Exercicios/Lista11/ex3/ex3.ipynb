{
 "cells": [
  {
   "cell_type": "markdown",
   "metadata": {},
   "source": [
    "**3. Por que geralmente é preferível usar um classificador de regressão logística em vez de um perceptron? Quais modificações você deve aplicar à um perceptron para torná-lo equivalente a um classificador de regressão logística?**\n",
    "\n",
    "R: Normalmente é preferível usar um classificador de regressão logística em vez de um perceptron porque apesar de ambos terem problemas com classes que não são linearmente separáveis, o perceptron não estima a probabilidade das classes, já a regressão logística é capaz de fazê-lo, o que produz melhores resultados. Se alterarmos a função de activação do Perceptron para a logística e treinarmos com o gradiente descendente ele torna-se equivalente a regressão logística.\n"
   ]
  },
  {
   "cell_type": "code",
   "execution_count": null,
   "metadata": {},
   "outputs": [],
   "source": []
  }
 ],
 "metadata": {
  "kernelspec": {
   "display_name": "Python 3",
   "language": "python",
   "name": "python3"
  },
  "language_info": {
   "codemirror_mode": {
    "name": "ipython",
    "version": 3
   },
   "file_extension": ".py",
   "mimetype": "text/x-python",
   "name": "python",
   "nbconvert_exporter": "python",
   "pygments_lexer": "ipython3",
   "version": "3.6.10"
  }
 },
 "nbformat": 4,
 "nbformat_minor": 4
}
