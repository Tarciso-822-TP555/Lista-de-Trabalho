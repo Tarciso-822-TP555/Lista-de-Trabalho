{
 "cells": [
  {
   "cell_type": "markdown",
   "metadata": {},
   "source": [
    "**8. Como você pode definir o valor de uma variável com qualquer valor desejado durante a fase de execução? (Dica: use um placeholder e verifique como o método Assign funciona no link abaixo**\n",
    "\n",
    "R: Podemos fazer isso com o método Assign"
   ]
  },
  {
   "cell_type": "code",
   "execution_count": 10,
   "metadata": {},
   "outputs": [
    {
     "name": "stdout",
     "output_type": "stream",
     "text": [
      "0.26367092\n",
      "5.0\n"
     ]
    }
   ],
   "source": [
    "import tensorflow as tf\n",
    "\n",
    "\n",
    "x = tf.Variable(tf.random_uniform(shape=()))\n",
    "x_alterado = tf.placeholder(shape=(), dtype=tf.float32)\n",
    "x_assign = tf.assign(x, x_alterado)\n",
    "\n",
    "\n",
    "with tf.Session():\n",
    "    x.initializer.run()\n",
    "    print(x.eval())\n",
    "    x_assign.eval(feed_dict={x_alterado: 5.0})\n",
    "    print(x.eval())\n"
   ]
  }
 ],
 "metadata": {
  "kernelspec": {
   "display_name": "Python 3",
   "language": "python",
   "name": "python3"
  },
  "language_info": {
   "codemirror_mode": {
    "name": "ipython",
    "version": 3
   },
   "file_extension": ".py",
   "mimetype": "text/x-python",
   "name": "python",
   "nbconvert_exporter": "python",
   "pygments_lexer": "ipython3",
   "version": "3.6.10"
  }
 },
 "nbformat": 4,
 "nbformat_minor": 4
}
