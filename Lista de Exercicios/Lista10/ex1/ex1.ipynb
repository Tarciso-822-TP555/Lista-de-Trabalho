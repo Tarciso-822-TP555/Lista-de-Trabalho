{
 "cells": [
  {
   "cell_type": "markdown",
   "metadata": {},
   "source": [
    "**1. Após termos discutido sobre o Tensorflow, em sua opinião, quais são as principais vantagens da criação de um grafo de computação, em vez de executar diretamente os cálculos? Quais são as principais desvantagens?**\n",
    "\n",
    "R: **As principais vantagens** da criação de um grafo de computação em vez de executar directamente os cálculos é que o TensorFlow pode computar os gradientes automaticamente, as operações podem rodar em paralelo em threads diferentes, e ainda facilita correr o mesmo modelo em dispositivos  diferentes (PC, MAC, Android e IoS).\n",
    "\n",
    "**As principais desvantagens** são: a curva de aprendizado que pode ser difícil, e pode ser difícil debugar."
   ]
  },
  {
   "cell_type": "code",
   "execution_count": null,
   "metadata": {},
   "outputs": [],
   "source": []
  }
 ],
 "metadata": {
  "kernelspec": {
   "display_name": "Python 3",
   "language": "python",
   "name": "python3"
  },
  "language_info": {
   "codemirror_mode": {
    "name": "ipython",
    "version": 3
   },
   "file_extension": ".py",
   "mimetype": "text/x-python",
   "name": "python",
   "nbconvert_exporter": "python",
   "pygments_lexer": "ipython3",
   "version": "3.6.10"
  }
 },
 "nbformat": 4,
 "nbformat_minor": 4
}
