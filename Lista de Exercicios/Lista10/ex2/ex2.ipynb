{
 "cells": [
  {
   "cell_type": "markdown",
   "metadata": {},
   "source": [
    "**2. O comando a_val = a.eval(session=sess) é equivalente a a_val = sess.run(a)? (Dica: crie um grafo e execute as duas instruções em uma sessão e verifique o resultado.)**\n",
    "\n",
    "R: Sim. Os comandos a_val = a.eval(session=sess) é equivalente a a_val = sess.run(a)"
   ]
  }
 ],
 "metadata": {
  "kernelspec": {
   "display_name": "Python 3",
   "language": "python",
   "name": "python3"
  },
  "language_info": {
   "codemirror_mode": {
    "name": "ipython",
    "version": 3
   },
   "file_extension": ".py",
   "mimetype": "text/x-python",
   "name": "python",
   "nbconvert_exporter": "python",
   "pygments_lexer": "ipython3",
   "version": "3.6.10"
  }
 },
 "nbformat": 4,
 "nbformat_minor": 4
}
