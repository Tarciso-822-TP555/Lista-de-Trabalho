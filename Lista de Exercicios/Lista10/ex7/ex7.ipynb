{
 "cells": [
  {
   "cell_type": "markdown",
   "metadata": {},
   "source": [
    "**7. O que acontece quando você executa um grafo para avaliar uma operação que depende de um placeholder, mas você não fornece nenhum valor para o placeholder? O que acontece se a operação não depender do placeholder?**\n",
    "\n",
    "R: Quando executamos um grafo para avaliar uma operação que depende de um placeholder, mas nenhum placeholder é fornecido, é obtida uma Exception. Quando o Placeholder não é obrigatório, nenhuma Exception é obtida."
   ]
  },
  {
   "cell_type": "code",
   "execution_count": null,
   "metadata": {},
   "outputs": [],
   "source": []
  }
 ],
 "metadata": {
  "kernelspec": {
   "display_name": "Python 3",
   "language": "python",
   "name": "python3"
  },
  "language_info": {
   "codemirror_mode": {
    "name": "ipython",
    "version": 3
   },
   "file_extension": ".py",
   "mimetype": "text/x-python",
   "name": "python",
   "nbconvert_exporter": "python",
   "pygments_lexer": "ipython3",
   "version": "3.6.10"
  }
 },
 "nbformat": 4,
 "nbformat_minor": 4
}
