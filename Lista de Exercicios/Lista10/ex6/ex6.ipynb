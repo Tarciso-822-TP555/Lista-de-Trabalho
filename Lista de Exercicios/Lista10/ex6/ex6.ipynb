{
 "cells": [
  {
   "cell_type": "markdown",
   "metadata": {},
   "source": [
    "**6. Qual é a diferença entre um nó do tipo placeholder e um nó do tipo variável?**\n",
    "\n",
    "R: Um **nó variável** é capaz de receber valores que podem ser alterados e inclusive retornados. Geralmente é usada para guardar parâmetros do modelo treinado.\n",
    "\n",
    "O **nó Placeholder** não realiza cálculos, ele é usado para passar os dados de treinamento para o TensorFlow durante o treinamento."
   ]
  },
  {
   "cell_type": "code",
   "execution_count": null,
   "metadata": {},
   "outputs": [],
   "source": []
  }
 ],
 "metadata": {
  "kernelspec": {
   "display_name": "Python 3",
   "language": "python",
   "name": "python3"
  },
  "language_info": {
   "codemirror_mode": {
    "name": "ipython",
    "version": 3
   },
   "file_extension": ".py",
   "mimetype": "text/x-python",
   "name": "python",
   "nbconvert_exporter": "python",
   "pygments_lexer": "ipython3",
   "version": "3.6.10"
  }
 },
 "nbformat": 4,
 "nbformat_minor": 4
}
