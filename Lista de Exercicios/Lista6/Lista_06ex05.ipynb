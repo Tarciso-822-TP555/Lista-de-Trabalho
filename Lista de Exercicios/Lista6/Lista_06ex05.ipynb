{
 "cells": [
  {
   "cell_type": "code",
   "execution_count": 57,
   "metadata": {},
   "outputs": [],
   "source": [
    "# Import all necessary libraries.\n",
    "import numpy as np\n",
    "from scipy.special import erfc\n",
    "from sklearn.naive_bayes import GaussianNB\n",
    "import matplotlib.pyplot as plt\n",
    "\n",
    "from matplotlib.colors import ListedColormap\n",
    "from sklearn.neighbors import KNeighborsClassifier\n",
    "from sklearn.model_selection import train_test_split\n",
    "from sklearn.datasets import make_blobs\n",
    "from sklearn.metrics import confusion_matrix, accuracy_score, roc_curve, auc, classification_report\n",
    "from sklearn.model_selection import GridSearchCV"
   ]
  },
  {
   "cell_type": "code",
   "execution_count": 58,
   "metadata": {},
   "outputs": [],
   "source": [
    "# Number of BPSK symbols to be transmitted.\n",
    "N = 1000000"
   ]
  },
  {
   "cell_type": "code",
   "execution_count": 59,
   "metadata": {},
   "outputs": [],
   "source": [
    "mapping_table = [-1.0 +1j*0.0, 1.0 + 1j*0.]\n",
    "\n",
    "def mod(bits):\n",
    "    ip = np.zeros((len(bits),1),dtype=complex)\n",
    "    inc = 0\n",
    "    for v in bits:\n",
    "        if(v==0):\n",
    "            ip[inc] = mapping_table[0]\n",
    "        else:\n",
    "            ip[inc] = mapping_table[1]        \n",
    "        inc += 1\n",
    "        \n",
    "    # Normalization of energy to 1.\n",
    "    #s = (1/np.sqrt(10))*ip;\n",
    "    s = ip\n",
    "   \n",
    "    return s\n",
    "\n",
    "def demod(c):\n",
    "    c_seq = mod(np.array([0,1]))\n",
    "    c_seq = c_seq[:,0]\n",
    "    e = []\n",
    "    for i in range(0,len(c_seq)):\n",
    "        e.append(np.abs(c_seq[i] - c)**2)\n",
    "    return e.index(np.min(e))"
   ]
  },
  {
   "cell_type": "code",
   "execution_count": 60,
   "metadata": {},
   "outputs": [
    {
     "name": "stdout",
     "output_type": "stream",
     "text": [
      "Es/N0 dB: -10\n",
      "Es/N0 dB: -8\n",
      "Es/N0 dB: -6\n",
      "Es/N0 dB: -4\n",
      "Es/N0 dB: -2\n",
      "Es/N0 dB: 0\n",
      "Es/N0 dB: 2\n",
      "Es/N0 dB: 4\n",
      "Es/N0 dB: 6\n",
      "Es/N0 dB: 8\n",
      "Es/N0 dB: 10\n"
     ]
    }
   ],
   "source": [
    "# Create Es/N0 vector.\n",
    "EsN0dB = np.arange(-10,12,2)\n",
    "\n",
    "ser_simu = np.zeros(len(EsN0dB))\n",
    "ser_theo = np.zeros(len(EsN0dB))\n",
    "for idx in range(0,len(EsN0dB)):\n",
    "    \n",
    "    print('Es/N0 dB:', EsN0dB[idx])\n",
    "    \n",
    "    EsN0Lin = 10.0**(-(EsN0dB[idx]/10.0))\n",
    "    \n",
    "    # Generate N binary symbols.\n",
    "    bits = np.random.randint(0,2,(N,1))\n",
    "    \n",
    "    # Modulate binary stream into BPSK symbols.\n",
    "    s = mod(bits)\n",
    "    s = s.reshape(N,1)\n",
    "    bits = bits.reshape(N,1)\n",
    "    \n",
    "    # Generate noise vector. \n",
    "    # Divide by two once the theoretical ber uses a complex Normal pdf with variance of each part = 1/2.\n",
    "    noise = np.sqrt(1.0/2.0)*(np.random.randn(N, 1) + 1j*np.random.randn(N, 1))\n",
    "    \n",
    "    # Pass symbols through AWGN channel.\n",
    "    y = s + np.sqrt(EsN0Lin)*noise\n",
    "    \n",
    "    # Split array into random train and test subsets.\n",
    "    s_test, s_train, y_test, y_train, bits_test, bits_train = train_test_split(s, y, bits, random_state=42)\n",
    "    \n",
    "    Y = np.c_[y_train.real,y_train.imag]\n",
    "    \n",
    "    # Create an instance of Neighbours Classifier and fit the data.\n",
    "    knn = KNeighborsClassifier(n_neighbors=16, weights='distance')\n",
    "    \n",
    "    # Train the classifier.\n",
    "    knn.fit(Y, bits_train.ravel())\n",
    "    \n",
    "    # Prediction.\n",
    "    detected = knn.predict(np.c_[y_test.real,y_test.imag])\n",
    "\n",
    "    # Simulated BPSK SER.\n",
    "    error = 0\n",
    "    for i in range(0,len(detected)):\n",
    "        if(detected[i] != bits_test[i,0]):\n",
    "            error = error + 1\n",
    "    \n",
    "    ser_simu[idx] = 1.0 * error / len(bits_test)\n",
    "    \n",
    "    # Theoretical BPSK BER.\n",
    "    EsN0 = 10.0**(EsN0dB[idx]/10.0)\n",
    "    ser_theo[idx] = (1.0/2.0)*erfc(np.sqrt(EsN0))"
   ]
  },
  {
   "cell_type": "code",
   "execution_count": 61,
   "metadata": {},
   "outputs": [
    {
     "name": "stdout",
     "output_type": "stream",
     "text": [
      "Es/N0:-10 \t- SER: 3.590173e-01\n",
      "Es/N0:-8 \t- SER: 3.136853e-01\n",
      "Es/N0:-6 \t- SER: 2.609387e-01\n",
      "Es/N0:-4 \t- SER: 2.020467e-01\n",
      "Es/N0:-2 \t- SER: 1.415813e-01\n",
      "Es/N0:0 \t- SER: 8.428267e-02\n",
      "Es/N0:2 \t- SER: 4.087733e-02\n",
      "Es/N0:4 \t- SER: 1.350800e-02\n",
      "Es/N0:6 \t- SER: 2.578667e-03\n",
      "Es/N0:8 \t- SER: 2.080000e-04\n",
      "Es/N0:10 \t- SER: 2.666667e-06\n"
     ]
    }
   ],
   "source": [
    "# Print Es/N0 versus BER values.\n",
    "for i in range(0,len(ser_simu)): print('Es/N0:%d \\t- SER: %e' % (EsN0dB[i], ser_simu[i]))"
   ]
  },
  {
   "cell_type": "code",
   "execution_count": 62,
   "metadata": {},
   "outputs": [
    {
     "data": {
      "image/png": "[encoded data removed]",
      "text/plain": [
       "<Figure size 504x504 with 1 Axes>"
      ]
     },
     "metadata": {
      "needs_background": "light"
     },
     "output_type": "display_data"
    }
   ],
   "source": [
    "# Plot Es/N0 versus SER values.\n",
    "fig = plt.figure(figsize=(7,7))\n",
    "plt.plot(EsN0dB, ser_theo, label='theoretical')\n",
    "plt.plot(EsN0dB, ser_simu, 'ro', label='simulated')\n",
    "plt.xscale('linear')\n",
    "plt.yscale('log')\n",
    "plt.xlabel('Es/N0 [dB]')\n",
    "plt.ylabel('SER')\n",
    "plt.grid(True)\n",
    "plt.title('QPSK detection')\n",
    "plt.legend()\n",
    "plt.xlim([-2, 14])\n",
    "plt.ylim([1e-5, 1])\n",
    "plt.show()"
   ]
  },
  {
   "cell_type": "markdown",
   "metadata": {},
   "source": [
    "**C. Podemos dizer que a curva simulada se aproxima da curva teórica da SER?**\n",
    "\n",
    "R: Sim, podemos dizer que a curva simulada se aproxima da teórica da SER."
   ]
  },
  {
   "cell_type": "code",
   "execution_count": null,
   "metadata": {},
   "outputs": [],
   "source": []
  }
 ],
 "metadata": {
  "kernelspec": {
   "display_name": "Python 3",
   "language": "python",
   "name": "python3"
  },
  "language_info": {
   "codemirror_mode": {
    "name": "ipython",
    "version": 3
   },
   "file_extension": ".py",
   "mimetype": "text/x-python",
   "name": "python",
   "nbconvert_exporter": "python",
   "pygments_lexer": "ipython3",
   "version": "3.8.5"
  }
 },
 "nbformat": 4,
 "nbformat_minor": 4
}
