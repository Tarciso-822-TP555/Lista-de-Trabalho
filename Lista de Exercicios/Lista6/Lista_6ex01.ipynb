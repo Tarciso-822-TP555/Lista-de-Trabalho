{
 "cells": [
  {
   "cell_type": "code",
   "execution_count": 238,
   "metadata": {},
   "outputs": [],
   "source": [
    "# Import all necessary libraries.\n",
    "import numpy as np\n",
    "import matplotlib.pyplot as plt\n",
    "from sklearn.neighbors import NearestNeighbors\n",
    "from sklearn.neighbors import KNeighborsClassifier\n",
    "from matplotlib.colors import ListedColormap\n",
    "from sklearn.model_selection import train_test_split\n",
    "from sklearn.datasets import make_blobs\n",
    "from sklearn.metrics import confusion_matrix, accuracy_score, roc_curve, auc, classification_report\n",
    "import seaborn as sns\n",
    "import math\n",
    "import operator \n",
    "from math import sqrt"
   ]
  },
  {
   "cell_type": "code",
   "execution_count": 239,
   "metadata": {},
   "outputs": [],
   "source": [
    "# Number of examples.\n",
    "N = 9\n",
    "centers = [[-1, 0], [0, 0]]\n",
    "\n",
    "# Create a 2-class dataset for classification.\n",
    "x_train, y_train = make_blobs(n_samples=N, centers=centers, random_state=42)\n",
    "\n",
    "x_test, y_test = make_blobs(n_samples=1, centers=centers, random_state=42)"
   ]
  },
  {
   "cell_type": "code",
   "execution_count": 240,
   "metadata": {},
   "outputs": [],
   "source": [
    "x1t = np.array([4, 5, 3, 6, 6, 7, 8, 10, 12])\n",
    "x2t = np.array([7, 6, 4, 9, 4, 6, 0, 10, 3])\n",
    "\n",
    "x_train = np.c_[x1t, x2t]\n",
    "\n",
    "y_train = np.array([0, 0, 0, 0, 1, 1, 1, 1, 1])\n",
    "\n",
    "x1p = np.array([6])\n",
    "x2p = np.array([5])\n",
    "\n",
    "x_test = np.c_[x1p, x2p]"
   ]
  },
  {
   "cell_type": "code",
   "execution_count": 246,
   "metadata": {},
   "outputs": [
    {
     "data": {
      "image/png": "[encoded data removed]",
      "text/plain": [
       "<Figure size 360x360 with 1 Axes>"
      ]
     },
     "metadata": {
      "needs_background": "light"
     },
     "output_type": "display_data"
    }
   ],
   "source": [
    "# Plot of data\n",
    "fig = plt.figure(figsize=(5,5))\n",
    "plt.plot(x1t, x2t, '.', label='Class 0')\n",
    "plt.plot(x1t, x2t, 'rx', label='Class 1')\n",
    "plt.plot(x1p, x2p, 'o', color='green', label='Validation Sample')\n",
    "plt.xlabel('$x_1$', fontsize=15)\n",
    "plt.ylabel('$x_2$', fontsize=15)\n",
    "plt.legend()\n",
    "plt.grid()\n",
    "#plt.savefig('Data Plot.png', dpi=600)\n",
    "plt.show()"
   ]
  },
  {
   "cell_type": "code",
   "execution_count": 242,
   "metadata": {},
   "outputs": [
    {
     "name": "stdout",
     "output_type": "stream",
     "text": [
      "Distances:  [1.         1.41421356 1.41421356]\n",
      "Classes:  [1 1 0]\n",
      " using K = 3, the validation samples X1p = 6, X2p = 5, belongs to the class => [1]\n",
      "\n",
      " using K = 3, the probability a Probabilidade de pertencer a Classe [1] is: [[33.33333333 66.66666667]] %\n"
     ]
    }
   ],
   "source": [
    "# Create an instance of Neighbours Classifier and fit the data for K = 3.\n",
    "clf = KNeighborsClassifier(n_neighbors=3, weights='uniform')\n",
    "\n",
    "# Train the classifier.\n",
    "clf.fit(x_train, y_train)\n",
    "\n",
    "# Predict\n",
    "y_pred = clf.predict([[6, 5]])\n",
    "\n",
    "# Class Probability\n",
    "y_proba = clf.predict_proba([[6, 5]])\n",
    "\n",
    "neigh_dist, neigh_ind = clf.kneighbors(x_test, n_neighbors=3, return_distance=True)\n",
    "\n",
    "print('Distances: ',neigh_dist[0])\n",
    "print('Classes: ',y_train[neigh_ind][0])\n",
    "\n",
    "print(' using K = 3, the validation samples X1p = 6, X2p = 5, belongs to the class =>', y_pred)\n",
    "\n",
    "print('\\n using K = 3, the probability a Probabilidade de pertencer a Classe', y_pred, 'is:', y_proba*100,'%')"
   ]
  },
  {
   "cell_type": "code",
   "execution_count": 233,
   "metadata": {},
   "outputs": [
    {
     "name": "stdout",
     "output_type": "stream",
     "text": [
      "Distances:  [1.         1.41421356 1.41421356 2.82842712 3.16227766]\n",
      "Classes:  [1 0 1 0 0]\n",
      " using K = 5, the validation samples X1p = 6, X2p = 5, belongs to the class => [0]\n",
      "\n",
      " using K = 5, the probability a Probabilidade de pertencer a Classe [0] is: [[60. 40.]] %\n"
     ]
    }
   ],
   "source": [
    "# Create an instance of Neighbours Classifier and fit the data for K = 5.\n",
    "clf = KNeighborsClassifier(n_neighbors=5, weights='uniform')\n",
    "\n",
    "# Train the classifier.\n",
    "clf.fit(x_train, y_train)\n",
    "\n",
    "# Predict\n",
    "y_pred = clf.predict([[6, 5]])\n",
    "\n",
    "# Class Probability\n",
    "y_proba = clf.predict_proba([[6, 5]])\n",
    "\n",
    "neigh_dist, neigh_ind = clf.kneighbors(x_test, n_neighbors=5, return_distance=True)\n",
    "\n",
    "print('Distances: ',neigh_dist[0])\n",
    "print('Classes: ',y_train[neigh_ind][0])\n",
    "\n",
    "print(' using K = 5, the validation samples X1p = 6, X2p = 5, belongs to the class =>', y_pred)\n",
    "\n",
    "print('\\n using K = 5, the probability a Probabilidade de pertencer a Classe', y_pred, 'is:', y_proba*100,'%')"
   ]
  },
  {
   "cell_type": "code",
   "execution_count": null,
   "metadata": {},
   "outputs": [],
   "source": []
  }
 ],
 "metadata": {
  "kernelspec": {
   "display_name": "Python 3",
   "language": "python",
   "name": "python3"
  },
  "language_info": {
   "codemirror_mode": {
    "name": "ipython",
    "version": 3
   },
   "file_extension": ".py",
   "mimetype": "text/x-python",
   "name": "python",
   "nbconvert_exporter": "python",
   "pygments_lexer": "ipython3",
   "version": "3.8.5"
  }
 },
 "nbformat": 4,
 "nbformat_minor": 4
}
