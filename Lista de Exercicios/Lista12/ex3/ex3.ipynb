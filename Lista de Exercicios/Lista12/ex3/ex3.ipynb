{
 "cells": [
  {
   "cell_type": "markdown",
   "metadata": {},
   "source": [
    "**3. Suponha que você tenha uma rede MLP composta por uma camada de entrada com 10 neurônios, seguida por uma camada oculta com 50 neurônios e, finalmente, uma camada de saída com 3 neurônios. Todos os neurônios usam a função de ativação ReLU. Sendo assim, responda:**\n",
    "* a) Qual é a dimensão da matriz de entrada X?\n",
    "* b) Qual a dimensão do vetor de pesos, Wh, da camada oculta e de seu vetor de bias bh?\n",
    "* c) Qual é a dimensão do vetor de pesos, Wo, da camada de saída e de seu vetor de bias bo?\n",
    "* d) Qual é a dimensão da matriz de saída, Y, da rede?\n",
    "* e) Escreva a equação que calcula a matriz de saída da rede, Y, como uma função de X, Wh, bh, Wo e bo\n",
    "\n",
    "R:\n",
    "* a) A dimensão da matriz de entrada **X** é n x 10, onde n é o tamanho do batch de treinamento\n",
    "\n",
    "* b) A dimensão do do vector de pesos **Wh** da camada oculta é 10 x 50, e o vector de bias **bh** tem uma dimensão de 50\n",
    "\n",
    "* c) A dimensão do vector de pesos **Wo** é 50 x 3, e o a dimensão do bias **bo** é 3.\n",
    "\n",
    "* d) A dimensão da matriz de saída **Y** da rede é n x 3 onde n é o tamanho do batch de treinamento\n",
    "\n",
    "* e) Y = (X · Wh + bh) · Wo + bo"
   ]
  },
  {
   "cell_type": "code",
   "execution_count": null,
   "metadata": {},
   "outputs": [],
   "source": []
  }
 ],
 "metadata": {
  "kernelspec": {
   "display_name": "Python 3",
   "language": "python",
   "name": "python3"
  },
  "language_info": {
   "codemirror_mode": {
    "name": "ipython",
    "version": 3
   },
   "file_extension": ".py",
   "mimetype": "text/x-python",
   "name": "python",
   "nbconvert_exporter": "python",
   "pygments_lexer": "ipython3",
   "version": "3.8.3"
  }
 },
 "nbformat": 4,
 "nbformat_minor": 4
}
