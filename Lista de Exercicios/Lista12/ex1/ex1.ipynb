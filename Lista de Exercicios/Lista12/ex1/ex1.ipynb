{
 "cells": [
  {
   "cell_type": "markdown",
   "metadata": {},
   "source": [
    "**1. Por que a função de ativação logística foi um ingrediente chave no treinamento das primeiras redes MLPs?**\n",
    "\n",
    "R:A função de activação logística foi um ingrediente chave no treinamento das primeiras MLPs porque a sua derivada é sempre diferente de zero, portanto o gradiente descendente consegue encontrar o ponto mínimo na \"tigela\""
   ]
  },
  {
   "cell_type": "code",
   "execution_count": null,
   "metadata": {},
   "outputs": [],
   "source": []
  }
 ],
 "metadata": {
  "kernelspec": {
   "display_name": "Python 3",
   "language": "python",
   "name": "python3"
  },
  "language_info": {
   "codemirror_mode": {
    "name": "ipython",
    "version": 3
   },
   "file_extension": ".py",
   "mimetype": "text/x-python",
   "name": "python",
   "nbconvert_exporter": "python",
   "pygments_lexer": "ipython3",
   "version": "3.8.3"
  }
 },
 "nbformat": 4,
 "nbformat_minor": 4
}
