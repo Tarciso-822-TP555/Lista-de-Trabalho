{
 "cells": [
  {
   "cell_type": "code",
   "execution_count": 13,
   "metadata": {},
   "outputs": [],
   "source": [
    "import tensorflow as tf\n",
    "import numpy as np\n",
    "import tfgraphviz as tfg\n",
    "from tensorboard import notebook\n",
    "from tensorflow.keras import layers\n"
   ]
  },
  {
   "cell_type": "code",
   "execution_count": 14,
   "metadata": {},
   "outputs": [],
   "source": [
    "# to make this notebook's output stable across runs\n",
    "def reset_graph(seed=42):\n",
    "    tf.reset_default_graph()\n",
    "    tf.set_random_seed(seed)\n",
    "    np.random.seed(seed)\n",
    "    \n",
    "def shuffle_batch(X, y, batch_size):\n",
    "    rnd_idx = np.random.permutation(len(X))\n",
    "    n_batches = len(X) // batch_size\n",
    "    for batch_idx in np.array_split(rnd_idx, n_batches):\n",
    "        X_batch, y_batch = X[batch_idx], y[batch_idx]\n",
    "        yield X_batch, y_batch"
   ]
  },
  {
   "cell_type": "code",
   "execution_count": 15,
   "metadata": {},
   "outputs": [],
   "source": [
    "reset_graph()\n",
    "\n",
    "n_inputs = 28*28 # MNIST\n",
    "n_hidden1 = 300\n",
    "n_hidden2 = 100\n",
    "n_outputs = 10"
   ]
  },
  {
   "cell_type": "code",
   "execution_count": 16,
   "metadata": {},
   "outputs": [],
   "source": [
    "def neuron_layer(X, n_neurons, name, activation=None):\n",
    "    with tf.name_scope(name):\n",
    "        n_inputs = int(X.get_shape()[1])\n",
    "        stddev = 2 / np.sqrt(n_inputs)\n",
    "        init = tf.truncated_normal((n_inputs, n_neurons), stddev=stddev)\n",
    "        W = tf.Variable(init, name=\"weights\")\n",
    "        b = tf.Variable(tf.zeros([n_neurons]), name=\"biases\")\n",
    "        z = tf.matmul(X, W) + b\n",
    "        if activation==\"relu\":\n",
    "            return tf.nn.relu(z)\n",
    "        else:\n",
    "            return z"
   ]
  },
  {
   "cell_type": "code",
   "execution_count": 17,
   "metadata": {},
   "outputs": [],
   "source": [
    "(X_train, y_train), (X_test, y_test) = tf.keras.datasets.mnist.load_data()\n",
    "X_train = X_train.astype(np.float32).reshape(-1, 28*28) / 255.0\n",
    "X_test = X_test.astype(np.float32).reshape(-1, 28*28) / 255.0\n",
    "y_train = y_train.astype(np.int32)\n",
    "y_test = y_test.astype(np.int32)\n",
    "X_valid, X_train = X_train[:5000], X_train[5000:]\n",
    "y_valid, y_train = y_train[:5000], y_train[5000:]"
   ]
  },
  {
   "cell_type": "code",
   "execution_count": 20,
   "metadata": {},
   "outputs": [
    {
     "name": "stdout",
     "output_type": "stream",
     "text": [
      "WARNING:tensorflow:Entity <bound method Dense.call of <tensorflow.python.layers.core.Dense object at 0x000001AEE8BC1AC8>> could not be transformed and will be executed as-is. Please report this to the AutgoGraph team. When filing the bug, set the verbosity to 10 (on Linux, `export AUTOGRAPH_VERBOSITY=10`) and attach the full output. Cause: converting <bound method Dense.call of <tensorflow.python.layers.core.Dense object at 0x000001AEE8BC1AC8>>: AssertionError: Bad argument number for Name: 3, expecting 4\n",
      "WARNING: Entity <bound method Dense.call of <tensorflow.python.layers.core.Dense object at 0x000001AEE8BC1AC8>> could not be transformed and will be executed as-is. Please report this to the AutgoGraph team. When filing the bug, set the verbosity to 10 (on Linux, `export AUTOGRAPH_VERBOSITY=10`) and attach the full output. Cause: converting <bound method Dense.call of <tensorflow.python.layers.core.Dense object at 0x000001AEE8BC1AC8>>: AssertionError: Bad argument number for Name: 3, expecting 4\n",
      "Hidden1 Tensor(\"dnn_2/hidden1/Relu:0\", shape=(?, 300), dtype=float32)\n",
      "WARNING:tensorflow:Entity <bound method Dense.call of <tensorflow.python.layers.core.Dense object at 0x000001AEE8BC1F28>> could not be transformed and will be executed as-is. Please report this to the AutgoGraph team. When filing the bug, set the verbosity to 10 (on Linux, `export AUTOGRAPH_VERBOSITY=10`) and attach the full output. Cause: converting <bound method Dense.call of <tensorflow.python.layers.core.Dense object at 0x000001AEE8BC1F28>>: AssertionError: Bad argument number for Name: 3, expecting 4\n",
      "WARNING: Entity <bound method Dense.call of <tensorflow.python.layers.core.Dense object at 0x000001AEE8BC1F28>> could not be transformed and will be executed as-is. Please report this to the AutgoGraph team. When filing the bug, set the verbosity to 10 (on Linux, `export AUTOGRAPH_VERBOSITY=10`) and attach the full output. Cause: converting <bound method Dense.call of <tensorflow.python.layers.core.Dense object at 0x000001AEE8BC1F28>>: AssertionError: Bad argument number for Name: 3, expecting 4\n",
      "Hidden2 Tensor(\"dnn_2/hidden2/Relu:0\", shape=(?, 100), dtype=float32)\n",
      "WARNING:tensorflow:Entity <bound method Dense.call of <tensorflow.python.layers.core.Dense object at 0x000001AEE8FC8E48>> could not be transformed and will be executed as-is. Please report this to the AutgoGraph team. When filing the bug, set the verbosity to 10 (on Linux, `export AUTOGRAPH_VERBOSITY=10`) and attach the full output. Cause: converting <bound method Dense.call of <tensorflow.python.layers.core.Dense object at 0x000001AEE8FC8E48>>: AssertionError: Bad argument number for Name: 3, expecting 4\n",
      "WARNING: Entity <bound method Dense.call of <tensorflow.python.layers.core.Dense object at 0x000001AEE8FC8E48>> could not be transformed and will be executed as-is. Please report this to the AutgoGraph team. When filing the bug, set the verbosity to 10 (on Linux, `export AUTOGRAPH_VERBOSITY=10`) and attach the full output. Cause: converting <bound method Dense.call of <tensorflow.python.layers.core.Dense object at 0x000001AEE8FC8E48>>: AssertionError: Bad argument number for Name: 3, expecting 4\n",
      "logits Tensor(\"dnn_2/outputs/BiasAdd:0\", shape=(?, 10), dtype=float32)\n"
     ]
    }
   ],
   "source": [
    "X = tf.placeholder(tf.float32, shape=(None, n_inputs), name=\"X\")\n",
    "y = tf.placeholder(tf.int64, shape=(None), name=\"y\")\n",
    "\n",
    "#dense = tf.keras.layers.Dense(32, input_shape=(16,))\n",
    "\n",
    "with tf.name_scope(\"dnn\"):\n",
    "    #hidden1 = neuron_layer(X, n_hidden1, name=\"hidden1\", activation=\"relu\")\n",
    "    hidden1 = tf.layers.dense(X, n_hidden1, name=\"hidden1\", activation=tf.nn.relu)\n",
    "    print('Hidden1',hidden1)\n",
    "    \n",
    "    #hidden2 = neuron_layer(hidden1, n_hidden2, \"hidden2\", activation=\"relu\")\n",
    "    hidden2 = tf.layers.dense(hidden1, n_hidden2, name=\"hidden2\", activation=tf.nn.relu)\n",
    "    print('Hidden2',hidden2)\n",
    "    \n",
    "    #logits = neuron_layer(hidden2, n_outputs, \"outputs\")\n",
    "    logits = tf.layers.dense(hidden2, n_outputs, name=\"outputs\")    \n",
    "    print('logits',logits)\n",
    "    \n",
    "with tf.name_scope(\"loss\"):\n",
    "    xentropy = tf.nn.sparse_softmax_cross_entropy_with_logits(labels=y, logits=logits)\n",
    "    loss = tf.reduce_mean(xentropy, name=\"loss\")\n",
    "    \n",
    "learning_rate = 0.01\n",
    "\n",
    "with tf.name_scope(\"train\"):\n",
    "    optimizer = tf.train.MomentumOptimizer(learning_rate=0.01, momentum=0.9)\n",
    "    training_op = optimizer.minimize(loss)\n",
    "    \n",
    "with tf.name_scope(\"eval\"):\n",
    "    correct = tf.nn.in_top_k(logits, y, 1)\n",
    "    accuracy = tf.reduce_mean(tf.cast(correct, tf.float32))\n",
    "    \n",
    "init = tf.global_variables_initializer()\n",
    "saver = tf.train.Saver()"
   ]
  },
  {
   "cell_type": "code",
   "execution_count": 7,
   "metadata": {},
   "outputs": [
    {
     "name": "stdout",
     "output_type": "stream",
     "text": [
      "0 Train accuracy: 0.96 Test accuracy: 0.9572\n",
      "1 Train accuracy: 0.94 Test accuracy: 0.9718\n",
      "2 Train accuracy: 0.98 Test accuracy: 0.972\n",
      "3 Train accuracy: 0.96 Test accuracy: 0.9766\n",
      "4 Train accuracy: 0.98 Test accuracy: 0.9786\n",
      "5 Train accuracy: 1.0 Test accuracy: 0.9798\n",
      "6 Train accuracy: 1.0 Test accuracy: 0.9812\n",
      "7 Train accuracy: 1.0 Test accuracy: 0.9808\n",
      "8 Train accuracy: 1.0 Test accuracy: 0.9814\n",
      "9 Train accuracy: 0.98 Test accuracy: 0.9824\n",
      "10 Train accuracy: 1.0 Test accuracy: 0.9836\n",
      "11 Train accuracy: 1.0 Test accuracy: 0.9842\n",
      "12 Train accuracy: 1.0 Test accuracy: 0.9824\n",
      "13 Train accuracy: 1.0 Test accuracy: 0.9828\n",
      "14 Train accuracy: 1.0 Test accuracy: 0.9842\n",
      "15 Train accuracy: 1.0 Test accuracy: 0.9846\n",
      "16 Train accuracy: 1.0 Test accuracy: 0.9838\n",
      "17 Train accuracy: 1.0 Test accuracy: 0.9842\n",
      "18 Train accuracy: 1.0 Test accuracy: 0.9842\n",
      "19 Train accuracy: 1.0 Test accuracy: 0.9852\n",
      "20 Train accuracy: 1.0 Test accuracy: 0.9842\n",
      "21 Train accuracy: 1.0 Test accuracy: 0.9846\n",
      "22 Train accuracy: 1.0 Test accuracy: 0.985\n",
      "23 Train accuracy: 1.0 Test accuracy: 0.9846\n",
      "24 Train accuracy: 1.0 Test accuracy: 0.9848\n",
      "25 Train accuracy: 1.0 Test accuracy: 0.9848\n",
      "26 Train accuracy: 1.0 Test accuracy: 0.985\n",
      "27 Train accuracy: 1.0 Test accuracy: 0.9848\n",
      "28 Train accuracy: 1.0 Test accuracy: 0.9848\n",
      "29 Train accuracy: 1.0 Test accuracy: 0.985\n",
      "30 Train accuracy: 1.0 Test accuracy: 0.985\n",
      "31 Train accuracy: 1.0 Test accuracy: 0.985\n",
      "32 Train accuracy: 1.0 Test accuracy: 0.985\n",
      "33 Train accuracy: 1.0 Test accuracy: 0.9848\n",
      "34 Train accuracy: 1.0 Test accuracy: 0.9852\n",
      "35 Train accuracy: 1.0 Test accuracy: 0.9846\n",
      "36 Train accuracy: 1.0 Test accuracy: 0.9848\n",
      "37 Train accuracy: 1.0 Test accuracy: 0.985\n",
      "38 Train accuracy: 1.0 Test accuracy: 0.985\n",
      "39 Train accuracy: 1.0 Test accuracy: 0.9842\n",
      "40 Train accuracy: 1.0 Test accuracy: 0.9848\n",
      "41 Train accuracy: 1.0 Test accuracy: 0.9852\n",
      "42 Train accuracy: 1.0 Test accuracy: 0.9848\n",
      "43 Train accuracy: 1.0 Test accuracy: 0.9848\n",
      "44 Train accuracy: 1.0 Test accuracy: 0.9846\n",
      "45 Train accuracy: 1.0 Test accuracy: 0.9842\n",
      "46 Train accuracy: 1.0 Test accuracy: 0.985\n",
      "47 Train accuracy: 1.0 Test accuracy: 0.9846\n",
      "48 Train accuracy: 1.0 Test accuracy: 0.9848\n",
      "49 Train accuracy: 1.0 Test accuracy: 0.9846\n",
      "50 Train accuracy: 1.0 Test accuracy: 0.9846\n",
      "atingido o limite sem progresso ( 50 )\n"
     ]
    }
   ],
   "source": [
    "n_epochs = 400\n",
    "batch_size = 50\n",
    "\n",
    "maximo_iteracoes_sem_progresso = 50\n",
    "contador_sem_progresso = 0\n",
    "menor_erro = 10000\n",
    "\n",
    "\n",
    "with tf.Session() as sess:\n",
    "    init.run()\n",
    "    for epoch in range(n_epochs):\n",
    "        for X_batch, y_batch in shuffle_batch(X_train, y_train, batch_size):\n",
    "            sess.run(training_op, feed_dict={X: X_batch, y: y_batch})\n",
    "        acc_train = accuracy.eval(feed_dict={X: X_batch, y: y_batch})\n",
    "        acc_test = accuracy.eval(feed_dict={X: X_valid, y: y_valid})\n",
    "        \n",
    "        if acc_test < menor_erro:\n",
    "            save_path = saver.save(sess, \"./my_model_finalv1.ckpt\")\n",
    "            menor_erro = acc_test\n",
    "            contador_sem_progresso = 0\n",
    "        else:\n",
    "            contador_sem_progresso += 1\n",
    "            if contador_sem_progresso > maximo_iteracoes_sem_progresso:\n",
    "                print(\"atingido o limite sem progresso (\",maximo_iteracoes_sem_progresso, \")\")\n",
    "                break\n",
    "        print(epoch, \"Train accuracy:\", acc_train, \"Test accuracy:\", acc_test)\n",
    "    "
   ]
  },
  {
   "cell_type": "code",
   "execution_count": 8,
   "metadata": {},
   "outputs": [
    {
     "name": "stdout",
     "output_type": "stream",
     "text": [
      "WARNING:tensorflow:From C:\\Users\\Mauro\\anaconda3\\lib\\site-packages\\tensorflow\\python\\training\\saver.py:1276: checkpoint_exists (from tensorflow.python.training.checkpoint_management) is deprecated and will be removed in a future version.\n",
      "Instructions for updating:\n",
      "Use standard file APIs to check for files with this prefix.\n",
      "INFO:tensorflow:Restoring parameters from ./my_model_finalv1.ckpt\n"
     ]
    }
   ],
   "source": [
    "with tf.Session() as sess:\n",
    "    saver.restore(sess, \"./my_model_finalv1.ckpt\") # or better, use save_path\n",
    "    X_new_scaled = X_test[:20]\n",
    "    Z = logits.eval(feed_dict={X: X_new_scaled})\n",
    "    y_pred = np.argmax(Z, axis=1)"
   ]
  },
  {
   "cell_type": "code",
   "execution_count": 9,
   "metadata": {},
   "outputs": [
    {
     "name": "stdout",
     "output_type": "stream",
     "text": [
      "Predicted classes: [7 2 1 0 4 1 4 9 6 9 0 6 9 0 1 5 9 7 3 4]\n",
      "Actual classes:    [7 2 1 0 4 1 4 9 5 9 0 6 9 0 1 5 9 7 3 4]\n"
     ]
    }
   ],
   "source": [
    "print(\"Predicted classes:\", y_pred)\n",
    "print(\"Actual classes:   \", y_test[:20])"
   ]
  },
  {
   "cell_type": "code",
   "execution_count": 10,
   "metadata": {},
   "outputs": [
    {
     "data": {
      "text/plain": [
       "'G.gv.pdf'"
      ]
     },
     "execution_count": 10,
     "metadata": {},
     "output_type": "execute_result"
    }
   ],
   "source": [
    "g = tfg.board(tf.get_default_graph())\n",
    "g.view()"
   ]
  },
  {
   "cell_type": "code",
   "execution_count": 11,
   "metadata": {},
   "outputs": [],
   "source": [
    "# Load the TensorBoard notebook extension\n",
    "%load_ext tensorboard\n",
    "#%reload_ext tensorboard"
   ]
  },
  {
   "cell_type": "code",
   "execution_count": 12,
   "metadata": {},
   "outputs": [
    {
     "data": {
      "text/plain": [
       "ERROR: Failed to launch TensorBoard (exited with 1).\n",
       "Contents of stderr:\n",
       "C:\\Users\\Mauro\\anaconda3\\lib\\site-packages\\tensorboard\\compat\\tensorflow_stub\\dtypes.py:541: FutureWarning: Passing (type, 1) or '1type' as a synonym of type is deprecated; in a future version of numpy, it will be understood as (type, (1,)) / '(1,)type'.\n",
       "  _np_qint8 = np.dtype([(\"qint8\", np.int8, 1)])\n",
       "C:\\Users\\Mauro\\anaconda3\\lib\\site-packages\\tensorboard\\compat\\tensorflow_stub\\dtypes.py:542: FutureWarning: Passing (type, 1) or '1type' as a synonym of type is deprecated; in a future version of numpy, it will be understood as (type, (1,)) / '(1,)type'.\n",
       "  _np_quint8 = np.dtype([(\"quint8\", np.uint8, 1)])\n",
       "C:\\Users\\Mauro\\anaconda3\\lib\\site-packages\\tensorboard\\compat\\tensorflow_stub\\dtypes.py:543: FutureWarning: Passing (type, 1) or '1type' as a synonym of type is deprecated; in a future version of numpy, it will be understood as (type, (1,)) / '(1,)type'.\n",
       "  _np_qint16 = np.dtype([(\"qint16\", np.int16, 1)])\n",
       "C:\\Users\\Mauro\\anaconda3\\lib\\site-packages\\tensorboard\\compat\\tensorflow_stub\\dtypes.py:544: FutureWarning: Passing (type, 1) or '1type' as a synonym of type is deprecated; in a future version of numpy, it will be understood as (type, (1,)) / '(1,)type'.\n",
       "  _np_quint16 = np.dtype([(\"quint16\", np.uint16, 1)])\n",
       "C:\\Users\\Mauro\\anaconda3\\lib\\site-packages\\tensorboard\\compat\\tensorflow_stub\\dtypes.py:545: FutureWarning: Passing (type, 1) or '1type' as a synonym of type is deprecated; in a future version of numpy, it will be understood as (type, (1,)) / '(1,)type'.\n",
       "  _np_qint32 = np.dtype([(\"qint32\", np.int32, 1)])\n",
       "C:\\Users\\Mauro\\anaconda3\\lib\\site-packages\\tensorboard\\compat\\tensorflow_stub\\dtypes.py:550: FutureWarning: Passing (type, 1) or '1type' as a synonym of type is deprecated; in a future version of numpy, it will be understood as (type, (1,)) / '(1,)type'.\n",
       "  np_resource = np.dtype([(\"resource\", np.ubyte, 1)])\n",
       "C:\\Users\\Mauro\\anaconda3\\lib\\site-packages\\tensorflow\\python\\framework\\dtypes.py:516: FutureWarning: Passing (type, 1) or '1type' as a synonym of type is deprecated; in a future version of numpy, it will be understood as (type, (1,)) / '(1,)type'.\n",
       "  _np_qint8 = np.dtype([(\"qint8\", np.int8, 1)])\n",
       "C:\\Users\\Mauro\\anaconda3\\lib\\site-packages\\tensorflow\\python\\framework\\dtypes.py:517: FutureWarning: Passing (type, 1) or '1type' as a synonym of type is deprecated; in a future version of numpy, it will be understood as (type, (1,)) / '(1,)type'.\n",
       "  _np_quint8 = np.dtype([(\"quint8\", np.uint8, 1)])\n",
       "C:\\Users\\Mauro\\anaconda3\\lib\\site-packages\\tensorflow\\python\\framework\\dtypes.py:518: FutureWarning: Passing (type, 1) or '1type' as a synonym of type is deprecated; in a future version of numpy, it will be understood as (type, (1,)) / '(1,)type'.\n",
       "  _np_qint16 = np.dtype([(\"qint16\", np.int16, 1)])\n",
       "C:\\Users\\Mauro\\anaconda3\\lib\\site-packages\\tensorflow\\python\\framework\\dtypes.py:519: FutureWarning: Passing (type, 1) or '1type' as a synonym of type is deprecated; in a future version of numpy, it will be understood as (type, (1,)) / '(1,)type'.\n",
       "  _np_quint16 = np.dtype([(\"quint16\", np.uint16, 1)])\n",
       "C:\\Users\\Mauro\\anaconda3\\lib\\site-packages\\tensorflow\\python\\framework\\dtypes.py:520: FutureWarning: Passing (type, 1) or '1type' as a synonym of type is deprecated; in a future version of numpy, it will be understood as (type, (1,)) / '(1,)type'.\n",
       "  _np_qint32 = np.dtype([(\"qint32\", np.int32, 1)])\n",
       "C:\\Users\\Mauro\\anaconda3\\lib\\site-packages\\tensorflow\\python\\framework\\dtypes.py:525: FutureWarning: Passing (type, 1) or '1type' as a synonym of type is deprecated; in a future version of numpy, it will be understood as (type, (1,)) / '(1,)type'.\n",
       "  np_resource = np.dtype([(\"resource\", np.ubyte, 1)])\n",
       "Traceback (most recent call last):\n",
       "  File \"C:\\Users\\Mauro\\anaconda3\\Scripts\\tensorboard-script.py\", line 10, in <module>\n",
       "    sys.exit(run_main())\n",
       "  File \"C:\\Users\\Mauro\\anaconda3\\lib\\site-packages\\tensorboard\\main.py\", line 59, in run_main\n",
       "    program.get_default_assets_zip_provider())\n",
       "  File \"C:\\Users\\Mauro\\anaconda3\\lib\\site-packages\\tensorboard\\program.py\", line 144, in __init__\n",
       "    self.plugin_loaders = [make_loader(p) for p in plugins]\n",
       "  File \"C:\\Users\\Mauro\\anaconda3\\lib\\site-packages\\tensorboard\\program.py\", line 144, in <listcomp>\n",
       "    self.plugin_loaders = [make_loader(p) for p in plugins]\n",
       "  File \"C:\\Users\\Mauro\\anaconda3\\lib\\site-packages\\tensorboard\\program.py\", line 143, in make_loader\n",
       "    raise ValueError(\"Not a TBLoader or TBPlugin subclass: %s\" % plugin)\n",
       "ValueError: Not a TBLoader or TBPlugin subclass: <class 'tensorboard_plugin_wit.wit_plugin_loader.WhatIfToolPluginLoader'>"
      ]
     },
     "metadata": {},
     "output_type": "display_data"
    }
   ],
   "source": [
    "%tensorboard --logdir ./"
   ]
  },
  {
   "cell_type": "code",
   "execution_count": null,
   "metadata": {},
   "outputs": [],
   "source": []
  }
 ],
 "metadata": {
  "kernelspec": {
   "display_name": "Python 3",
   "language": "python",
   "name": "python3"
  },
  "language_info": {
   "codemirror_mode": {
    "name": "ipython",
    "version": 3
   },
   "file_extension": ".py",
   "mimetype": "text/x-python",
   "name": "python",
   "nbconvert_exporter": "python",
   "pygments_lexer": "ipython3",
   "version": "3.6.10"
  }
 },
 "nbformat": 4,
 "nbformat_minor": 2
}
