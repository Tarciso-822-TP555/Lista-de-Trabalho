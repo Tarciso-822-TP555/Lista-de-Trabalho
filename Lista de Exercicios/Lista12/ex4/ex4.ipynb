{
 "cells": [
  {
   "cell_type": "markdown",
   "metadata": {},
   "source": [
    "**4. Quantos neurônios você precisa na camada de saída de uma rede MLP se você deseja classificar emails em spam ou ham? Qual função de ativação você deve usar na camada de saída? Se você deseja classificar a base de dados MNIST (imagens de dígitos escritos à mão), quantos neurônios você precisa na camada de saída usando qual tipo de função de ativação?**\n",
    "\n",
    "R: Para classificar o email em spam ou ham é necessário um neurónio na camada de saída (para indicar a probabilidade do email ser spam). A função de activação a ser usada na saída deve ser a logística porque esses dados podem ser linearmente separados e porque ainda determina probabilidades. \n",
    "\n",
    "Se formos classificar a base de dados MNIST precisaremos de 10 neurónios na camada de saída, e devemos usar uma activação com a função Softmax que é capaz de separar múltiplas classes."
   ]
  },
  {
   "cell_type": "code",
   "execution_count": null,
   "metadata": {},
   "outputs": [],
   "source": []
  }
 ],
 "metadata": {
  "kernelspec": {
   "display_name": "Python 3",
   "language": "python",
   "name": "python3"
  },
  "language_info": {
   "codemirror_mode": {
    "name": "ipython",
    "version": 3
   },
   "file_extension": ".py",
   "mimetype": "text/x-python",
   "name": "python",
   "nbconvert_exporter": "python",
   "pygments_lexer": "ipython3",
   "version": "3.6.10"
  }
 },
 "nbformat": 4,
 "nbformat_minor": 4
}
