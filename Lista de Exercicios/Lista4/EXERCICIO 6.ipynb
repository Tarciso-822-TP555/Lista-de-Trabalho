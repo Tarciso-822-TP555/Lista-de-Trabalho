{
 "cells": [
  {
   "cell_type": "markdown",
   "metadata": {},
   "source": [
    "# EXERCICIO 6"
   ]
  },
  {
   "cell_type": "code",
   "execution_count": 2,
   "metadata": {},
   "outputs": [],
   "source": [
    "import numpy as np\n",
    "import cmath"
   ]
  },
  {
   "cell_type": "code",
   "execution_count": 3,
   "metadata": {},
   "outputs": [
    {
     "name": "stdout",
     "output_type": "stream",
     "text": [
      "media da altura masculino 1.7825\n",
      "variância da altura maculina 0.04918078893226505\n",
      "media da altura feminina 1.65\n",
      "variância da altura feminina 0.08336666000266532\n",
      "\n",
      "media dos pesos masculino 79.945\n",
      "varância dos pesos masculino 4.355470697869522\n",
      "media do peso feminino 60.102500000000006\n",
      "variância do peso feminino 9.282128998780403\n",
      "\n",
      "media do calçado masculino 28.575000000000003\n",
      "variância do calçado masculino 2.1060567418756797\n",
      "media do calçado feminino 19.05\n",
      "variância do calçado feminino 2.839806331424733\n"
     ]
    }
   ],
   "source": [
    "\n",
    "# P(alt|cq)\n",
    "P_alt_cq = 1.83 \n",
    "\n",
    "# P(peso|cq)\n",
    "P_pes_cq = 58.97 \n",
    "\n",
    "# P(calçado|cq)\n",
    "P_calc_cq = 20.32\n",
    "\n",
    "#P(cq_masculino)\n",
    "P_masc_cq = 0.5\n",
    "\n",
    "#P(Cq_feminino)\n",
    "P_fem_cq = 0.5\n",
    "\n",
    "# Atributos altura masculina \n",
    "masc_alt1 = 1.83\n",
    "masc_alt2 = 1.80\n",
    "masc_alt3 = 1.70\n",
    "masc_alt4 = 1.80\n",
    "\n",
    "# Atributos altura feminina \n",
    "fem_alt1 = 1.52\n",
    "fem_alt2 = 1.68\n",
    "fem_alt3 = 1.65\n",
    "fem_alt4 = 1.75\n",
    "\n",
    "# Atributos peso masculina \n",
    "masc_pes1 = 81.65 \n",
    "masc_pes2 = 86.18\n",
    "masc_pes3 = 77.11\n",
    "masc_pes4 = 74.84\n",
    "\n",
    "# Atributos peso feminino  \n",
    "fem_pes1 =  45.36\n",
    "fem_pes2 =  68.04\n",
    "fem_pes3 =  58.97\n",
    "fem_pes4 =  68.04\n",
    "\n",
    "# Atributos calçados masculina \n",
    "masc_calc1 = 30.48\n",
    "masc_calc2 = 27.94\n",
    "masc_calc3 = 30.48\n",
    "masc_calc4 = 25.40\n",
    " \n",
    "# Atributos calçados feminino \n",
    "fem_calc1 =  15.24\n",
    "fem_calc2 = 20.32\n",
    "fem_calc3 = 17.78\n",
    "fem_calc4 = 22.86\n",
    "\n",
    "# Calculando os atributos e a variancia \n",
    "# Média e varincia das alturas Masculinas \n",
    "med_alt_masc = (masc_alt1 + masc_alt2 + masc_alt3 + masc_alt4)/4\n",
    "varian_alt_masc= np.sqrt(((masc_alt1 - med_alt_masc)**2 + (masc_alt2 - med_alt_masc )**2 + (masc_alt3 - med_alt_masc)**2 + (masc_alt4 - med_alt_masc)**2)/4)\n",
    "\n",
    "# Média e variância das alturas femininas\n",
    "med_alt_fem = (fem_alt1 + fem_alt2 + fem_alt3 + fem_alt4 )/4\n",
    "varian_alt_fem = np.sqrt(((fem_alt1 - med_alt_fem)**2 + (fem_alt2 - med_alt_fem)**2 + (fem_alt3 - med_alt_fem)**2 + (fem_alt4 - med_alt_fem)**2)/4)\n",
    "\n",
    "# Média e varincia das pesos Masculinas\n",
    "med_peso_masc = (masc_pes1 + masc_pes2 + masc_pes3 + masc_pes4)/4\n",
    "varian_peso_masc= np.sqrt(((masc_pes1 - med_peso_masc)**2 + (masc_pes2 - med_peso_masc )**2 + (masc_pes3 - med_peso_masc)**2 + (masc_pes4 - med_peso_masc)**2)/4) \n",
    "\n",
    "\n",
    "#Media e variancia das pesos femininos \n",
    "med_peso_fem = (fem_pes1 + fem_pes2 + fem_pes3 + fem_pes4 )/4\n",
    "varian_peso_fem = np.sqrt(((fem_pes1 - med_peso_fem)**2 + (fem_pes2 - med_peso_fem )**2 + (fem_pes3 - med_peso_fem)**2 + (fem_pes4 - med_peso_fem)**2)/4)\n",
    "\n",
    "#media e variancia dos calcados masculinos \n",
    "med_peso_calc = (masc_calc1 + masc_calc2 + masc_calc3 + masc_calc4 )/4\n",
    "varian_calc_masc= np.sqrt(((masc_calc1 - med_peso_calc)**2 + (masc_calc2 - med_peso_calc )**2 + (masc_calc3 - med_peso_calc)**2 + (masc_calc4 - med_peso_calc)**2)/4) \n",
    "\n",
    "# Média e variância dos calcados femininos \n",
    "med_calc_fem = (fem_calc1 + fem_calc2 + fem_calc3 + fem_calc4 )/4\n",
    "varian_calc_fem= np.sqrt(((fem_calc1 - med_calc_fem )**2 + (fem_calc2 - med_calc_fem  )**2+(fem_calc3 - med_calc_fem )**2 + (fem_calc4 - med_calc_fem )**2)/4) \n",
    "\n",
    "print ('media da altura masculino', med_alt_masc)\n",
    "print ('variância da altura maculina', varian_alt_masc)\n",
    "print ('media da altura feminina',med_alt_fem )\n",
    "print ('variância da altura feminina',varian_alt_fem )\n",
    "print()\n",
    "print ('media dos pesos masculino',med_peso_masc)\n",
    "print ('varância dos pesos masculino',varian_peso_masc)\n",
    "print ('media do peso feminino', med_peso_fem)\n",
    "print ('variância do peso feminino', varian_peso_fem)\n",
    "print()\n",
    "print ('media do calçado masculino', med_peso_calc)\n",
    "print ('variância do calçado masculino', varian_calc_masc)\n",
    "print ('media do calçado feminino', med_calc_fem)\n",
    "print ('variância do calçado feminino', varian_calc_fem)\n"
   ]
  },
  {
   "cell_type": "code",
   "execution_count": 4,
   "metadata": {},
   "outputs": [
    {
     "name": "stdout",
     "output_type": "stream",
     "text": [
      "5.088104674550712\n",
      "0.46516319624478214\n",
      "\n",
      "8.430393147697965e-07\n",
      "0.042660897546429793\n",
      "\n",
      "8.735117486990954e-05\n",
      "0.12711356367837498\n"
     ]
    }
   ],
   "source": [
    "# Probabilidades condicionais \n",
    "\n",
    "#P(altura_1.83|masc)\n",
    "P_alt_masc = (1/(varian_alt_masc* np.sqrt(2*np.pi))) * np.e**-((P_alt_cq - med_alt_masc )**2/(2*varian_alt_masc**2))\n",
    "print(P_alt_masc)\n",
    "\n",
    "#P(altura_1.83|fem)\n",
    "P_alt_fem = (1/(varian_alt_fem* np.sqrt(2*np.pi))) * np.e**-((P_alt_cq - med_alt_fem )**2/(2*varian_alt_fem**2))\n",
    "print(P_alt_fem)\n",
    "print()\n",
    "\n",
    "#P(peso_58.97|masc)\n",
    "P_pes_masc = (1/(varian_peso_masc* np.sqrt(2*np.pi))) * np.e**-((P_pes_cq - med_peso_masc )**2/(2*varian_peso_masc**2))\n",
    "print(P_pes_masc)\n",
    "\n",
    "#P(peso_58_97|fem)\n",
    "P_pes_fem = (1/(varian_peso_fem* np.sqrt(2*np.pi))) * np.e**-((P_pes_cq - med_peso_fem )**2/(2*varian_peso_fem**2))\n",
    "print(P_pes_fem)\n",
    "print()\n",
    "\n",
    "#P(calçado_20.32|masc)\n",
    "P_calc_masc = (1/(varian_calc_masc* np.sqrt(2*np.pi))) * np.e**-((P_calc_cq - med_peso_calc )**2/(2*varian_calc_masc**2))\n",
    "print(P_calc_masc)\n",
    "\n",
    "#P(calçaldo_20.32|fem)\n",
    "P_calc_fem = (1/(varian_calc_fem* np.sqrt(2*np.pi))) * np.e**-((P_calc_cq - med_calc_fem )**2/(2*varian_calc_fem**2))\n",
    "print(P_calc_fem)"
   ]
  },
  {
   "cell_type": "code",
   "execution_count": 5,
   "metadata": {},
   "outputs": [
    {
     "name": "stdout",
     "output_type": "stream",
     "text": [
      "Probabilidade do sexo masculino 1.8734522154115312e-10\n",
      "Probabilidade do sexo feminino 0.0012612385402278375\n"
     ]
    }
   ],
   "source": [
    "# As Probabilidades \n",
    "\n",
    "# P(masc| altura_Peso_calçado)\n",
    "P_masc_alt_pes_calc = (P_alt_masc*P_pes_masc*P_calc_masc*P_masc_cq)\n",
    "print ('Probabilidade do sexo masculino', P_masc_alt_pes_calc)\n",
    "\n",
    "#P(fem|altura_peso_calçado)\n",
    "P_fem_alt_pes_calc = (P_alt_fem*P_pes_fem*P_calc_fem*P_fem_cq)\n",
    "print (\"Probabilidade do sexo feminino\", P_fem_alt_pes_calc)"
   ]
  },
  {
   "cell_type": "markdown",
   "metadata": {},
   "source": [
    "## Resposta:\n",
    "    \n",
    "**Há maior probabilidade de ser do sexo Feminino**"
   ]
  }
 ],
 "metadata": {
  "kernelspec": {
   "display_name": "Python 3",
   "language": "python",
   "name": "python3"
  },
  "language_info": {
   "codemirror_mode": {
    "name": "ipython",
    "version": 3
   },
   "file_extension": ".py",
   "mimetype": "text/x-python",
   "name": "python",
   "nbconvert_exporter": "python",
   "pygments_lexer": "ipython3",
   "version": "3.8.3"
  }
 },
 "nbformat": 4,
 "nbformat_minor": 4
}
