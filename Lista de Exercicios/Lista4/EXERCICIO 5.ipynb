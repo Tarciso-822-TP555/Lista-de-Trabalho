{
 "cells": [
  {
   "cell_type": "markdown",
   "metadata": {},
   "source": [
    "# EXERCICIO 5"
   ]
  },
  {
   "cell_type": "code",
   "execution_count": 20,
   "metadata": {},
   "outputs": [
    {
     "name": "stdout",
     "output_type": "stream",
     "text": [
      "Probabilidade de pagar o emprestimo é de 0.7256235827664399\n",
      "Probabilidade de não pagar o emprestimo é de  0.24691358024691357\n"
     ]
    }
   ],
   "source": [
    "# Neste caso há 2 classes que são, Pagou e não Pagou.\n",
    "   \n",
    "\"Probabilidade de pagar o emprestimo\"\n",
    "# 𝑃(x1|cq) \n",
    "P_não_pagar =4/7\n",
    "P_x1 = 6/10\n",
    "\n",
    "# 𝑃(x2|cq)\n",
    "P_casado_pagar = 4/7\n",
    "P_x2 = 5/10\n",
    "\n",
    "# 𝑃(x3|cq)\n",
    "P_3_pagou = 2/7\n",
    "P_x3 = 3/10\n",
    "\n",
    "# 𝑃(cq)\n",
    "P_pagou = 7/10\n",
    "\n",
    "# Calcular a probabilidade de pagar o Empréstimo \n",
    "P_pagar_x = ((P_não_pagar)*(P_casado_pagar)*(P_3_pagou)*(P_pagou)) / ((P_x1)*(P_x2)*(P_x3))\n",
    "\n",
    "print('Probabilidade de pagar o emprestimo é de', P_pagar_x)\n",
    "\n",
    "\"Probabilidade de não pagar o emprestimo\"\n",
    "# 𝑃(x1|cq) \n",
    "P_não_pagar =2/3\n",
    "P_x1 = 6/10\n",
    "\n",
    "# 𝑃(x2|cq)\n",
    "P_casado_não_pagar = 1/3\n",
    "P_x2 = 5/10\n",
    "\n",
    "# 𝑃(x3|cq)\n",
    "P_3_não_pagou = 1/3\n",
    "P_x3 = 3/10\n",
    "\n",
    "# 𝑃(não_cq)\n",
    "P_não_pagou = 3/10\n",
    "\n",
    "# Calcular a probabilidade de não pagar o Empréstimo \n",
    "P_não_pagar_x = ((P_não_pagar)*(P_casado_não_pagar)*(P_3_não_pagou)*(P_não_pagou)) / ((P_x1)*(P_x2)*(P_x3))\n",
    "\n",
    "print('Probabilidade de não pagar o emprestimo é de ', P_não_pagar_x)"
   ]
  },
  {
   "cell_type": "markdown",
   "metadata": {},
   "source": [
    " ## Resposta:\n",
    " \n",
    "Baseado nas duas probabilidades, caso eu trabalhasse no banco, Sim , eu iria autorizarar o empréstimo ao senhor Jair visto que as suas probabilidades de pagar são altas."
   ]
  }
 ],
 "metadata": {
  "kernelspec": {
   "display_name": "Python 3",
   "language": "python",
   "name": "python3"
  },
  "language_info": {
   "codemirror_mode": {
    "name": "ipython",
    "version": 3
   },
   "file_extension": ".py",
   "mimetype": "text/x-python",
   "name": "python",
   "nbconvert_exporter": "python",
   "pygments_lexer": "ipython3",
   "version": "3.8.3"
  }
 },
 "nbformat": 4,
 "nbformat_minor": 4
}
