{
 "cells": [
  {
   "cell_type": "markdown",
   "metadata": {},
   "source": [
    "# EXERCICIO4"
   ]
  },
  {
   "cell_type": "markdown",
   "metadata": {},
   "source": [
    "## Testando as Probabilidades do Exame A"
   ]
  },
  {
   "cell_type": "code",
   "execution_count": 1,
   "metadata": {},
   "outputs": [
    {
     "name": "stdout",
     "output_type": "stream",
     "text": [
      "Probabilidade de o resultado da positivo e ter o virus 0.08755760368663594\n",
      "Probabilidade de o resultado dar positivo sem ter o virus    0.9124423963133641\n"
     ]
    }
   ],
   "source": [
    "# Neste caso temos 2 classes : ter o virus ou não ter \n",
    "# Temos 1 Atributo resultado do teste : Positivo ou Negativo\n",
    "   \n",
    "#As probabilidades do Exame A\n",
    "\n",
    "# 𝑃(+|virus)\n",
    "P_pos_virus = 0.95\n",
    "\n",
    "#𝑃(virus)\n",
    "P_virus = 0.01\n",
    "\n",
    "#𝑃(+|sem_virus)\n",
    "P_pos_sem_virus = 0.1\n",
    "\n",
    "#𝑃(sem_virus)\n",
    "P_sem_virus = 0.99\n",
    "\n",
    "# Testando as Probabilidades do Exame A\n",
    "P_positivo = P_pos_virus * P_virus + P_pos_sem_virus * P_sem_virus\n",
    "\n",
    "\"Usando o teorema de Bayes\"\n",
    "# Probabilidade de o resultado da postivo e ter o virus   \n",
    "P_pos_virus = P_pos_virus * P_virus / P_positivo\n",
    "\n",
    "# Probabilidade de o resultado dar positivo sem ter o virus  \n",
    "P_pos_sem_virus = P_pos_sem_virus * P_sem_virus / P_positivo\n",
    "\n",
    "print('Probabilidade de o resultado da positivo e ter o virus', P_pos_virus)\n",
    "print('Probabilidade de o resultado dar positivo sem ter o virus   ', P_pos_sem_virus)"
   ]
  },
  {
   "cell_type": "markdown",
   "metadata": {},
   "source": [
    "## Testando as Probabilidades do Exame B "
   ]
  },
  {
   "cell_type": "code",
   "execution_count": 2,
   "metadata": {},
   "outputs": [
    {
     "name": "stdout",
     "output_type": "stream",
     "text": [
      "Probabilidade de o resultado da positivo e ter o virus 0.15384615384615385\n",
      "Probabilidade de o resultado dar positivo sem ter o virus    0.8461538461538461\n"
     ]
    }
   ],
   "source": [
    "# Neste caso temos 2 classes : ter o virus ou não ter \n",
    "# Temos 1 Atributo resultado do teste : Positivo ou Negativo\n",
    "   \n",
    "#As probabilidades do Exame A\n",
    "\n",
    "# 𝑃(+|virus)\n",
    "P_pos_virus = 0.90\n",
    "\n",
    "#𝑃(virus)\n",
    "P_virus = 0.01\n",
    "\n",
    "#𝑃(+|sem_virus)\n",
    "P_pos_sem_virus = 0.05\n",
    "\n",
    "#𝑃(sem_virus)\n",
    "P_sem_virus = 0.99\n",
    "\n",
    "# Testando as Probabilidades do Exame B\n",
    "P_positivo = P_pos_virus * P_virus + P_pos_sem_virus * P_sem_virus\n",
    "\n",
    "\"Usando o teorema de Bayes\"\n",
    "# Probabilidade de o resultado da postivo e ter o virus   \n",
    "P_pos_virus = P_pos_virus * P_virus / P_positivo\n",
    "\n",
    "# Probabilidade de o resultado dar positivo sem ter o virus  \n",
    "P_pos_sem_virus = P_pos_sem_virus * P_sem_virus / P_positivo\n",
    "\n",
    "print('Probabilidade de o resultado da positivo e ter o virus', P_pos_virus)\n",
    "print('Probabilidade de o resultado dar positivo sem ter o virus   ', P_pos_sem_virus)"
   ]
  },
  {
   "cell_type": "markdown",
   "metadata": {},
   "source": [
    "## Resposta: \n",
    "\n",
    "Após analisamos as probablidades de ambos teste podemos conluir que o Teste B é mais indicativo de alguém realmente estar com o vírus"
   ]
  },
  {
   "cell_type": "code",
   "execution_count": null,
   "metadata": {},
   "outputs": [],
   "source": []
  }
 ],
 "metadata": {
  "kernelspec": {
   "display_name": "Python 3",
   "language": "python",
   "name": "python3"
  },
  "language_info": {
   "codemirror_mode": {
    "name": "ipython",
    "version": 3
   },
   "file_extension": ".py",
   "mimetype": "text/x-python",
   "name": "python",
   "nbconvert_exporter": "python",
   "pygments_lexer": "ipython3",
   "version": "3.8.3"
  }
 },
 "nbformat": 4,
 "nbformat_minor": 4
}
