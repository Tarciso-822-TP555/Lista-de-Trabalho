{
 "cells": [
  {
   "cell_type": "code",
   "execution_count": 14,
   "metadata": {},
   "outputs": [],
   "source": [
    "# Import all necessary libraries.\n",
    "import numpy as np\n",
    "import matplotlib.pyplot as plt\n",
    "from matplotlib.colors import ListedColormap\n",
    "from sklearn.neighbors import KNeighborsClassifier\n",
    "from sklearn.model_selection import train_test_split\n",
    "from sklearn.datasets import make_blobs\n",
    "from sklearn.metrics import confusion_matrix, accuracy_score, roc_curve, auc, classification_report\n",
    "import seaborn as sns\n",
    "import math \n"
   ]
  },
  {
   "cell_type": "code",
   "execution_count": 15,
   "metadata": {},
   "outputs": [],
   "source": [
    "def calcularEntropia(p,n):\n",
    "    if(n == 0):\n",
    "        return 0\n",
    "    if(p == 0):\n",
    "        return 0\n",
    "    return - ( (p/(p+n)) * math.log2( (p/(p+n)) )  +  ( 1 - p/(p+n) ) * math.log2(1 - (p/(p+n)))  ) \n",
    "\n",
    "def calcularRemainder(p, n, p_total, n_total):\n",
    "    return (p + n)/(p_total + n_total) * calcularEntropia(p, n)\n"
   ]
  },
  {
   "cell_type": "markdown",
   "metadata": {},
   "source": [
    "| X1  | X2  | Y|\n",
    "|---|---|---|\n",
    "| 0  | 0  | 0  |\n",
    "| 0  |  1 | 1  |\n",
    "| 1  |  0 |  1 |\n",
    "| 1  |  1 |  0 |"
   ]
  },
  {
   "cell_type": "markdown",
   "metadata": {},
   "source": [
    "**Considerando o seguinte:**\n",
    "\n",
    "**0 = n**\n",
    "\n",
    "**1 = p**"
   ]
  },
  {
   "cell_type": "code",
   "execution_count": 16,
   "metadata": {},
   "outputs": [],
   "source": [
    "p_total = 2\n",
    "\n",
    "n_total = 2"
   ]
  },
  {
   "cell_type": "code",
   "execution_count": 17,
   "metadata": {},
   "outputs": [
    {
     "name": "stdout",
     "output_type": "stream",
     "text": [
      "Entropia total  1.0\n"
     ]
    }
   ],
   "source": [
    "entropia_total = calcularEntropia(p_total, n_total)\n",
    "print('Entropia total ', entropia_total)"
   ]
  },
  {
   "cell_type": "markdown",
   "metadata": {},
   "source": [
    "![image info](./X1_A.png)"
   ]
  },
  {
   "cell_type": "code",
   "execution_count": 18,
   "metadata": {},
   "outputs": [
    {
     "name": "stdout",
     "output_type": "stream",
     "text": [
      "Ganho X1  0.0\n"
     ]
    }
   ],
   "source": [
    "p_1_X1=1\n",
    "n_1_X1=1\n",
    "\n",
    "remainder_1_X1 = calcularRemainder(p_1_X1, n_1_X1, p_total, n_total)\n",
    "\n",
    "p_0_X1=1\n",
    "n_0_X1=1\n",
    "\n",
    "remainder_0_X1 = calcularRemainder(p_0_X1, n_0_X1, p_total, n_total)\n",
    "\n",
    "\n",
    "ganho_X1 = entropia_total - (remainder_1_X1 + remainder_0_X1)\n",
    "\n",
    "print('Ganho X1 ', ganho_X1)"
   ]
  },
  {
   "cell_type": "markdown",
   "metadata": {},
   "source": [
    "![image info](./X2_A.png)"
   ]
  },
  {
   "cell_type": "code",
   "execution_count": 19,
   "metadata": {},
   "outputs": [
    {
     "name": "stdout",
     "output_type": "stream",
     "text": [
      "Ganho X2  0.0\n"
     ]
    }
   ],
   "source": [
    "p_1_X2=1\n",
    "n_1_X2=1\n",
    "\n",
    "remainder_1_X2 = calcularRemainder(p_1_X2, n_1_X2, p_total, n_total)\n",
    "\n",
    "p_0_X2=1\n",
    "n_0_X2=1\n",
    "\n",
    "remainder_0_X2 = calcularRemainder(p_0_X2, n_0_X2, p_total, n_total)\n",
    "\n",
    "\n",
    "ganho_X2 = entropia_total - (remainder_1_X2 + remainder_0_X2)\n",
    "\n",
    "print('Ganho X2 ', ganho_X2)"
   ]
  },
  {
   "cell_type": "markdown",
   "metadata": {},
   "source": [
    "**Como o ganho de x1 é o mesmo que o de x2, podemos arbitrar qualquer um como o nó raiz da árvore, decidi pelo x1**"
   ]
  },
  {
   "cell_type": "markdown",
   "metadata": {},
   "source": [
    "                     x1\n",
    "                    /  \\\n",
    "                   /    \\\n",
    "                  /      \\\n",
    "                 /        \\\n",
    "                /          \\\n",
    "               0            1\n",
    "              /              \\\n",
    "             /                \\\n",
    "            x2                 x2\n",
    "           /  \\               /  \\\n",
    "          /    \\             /    \\  \n",
    "         /      \\           /      \\\n",
    "        0        1         0        1\n",
    "       /          \\       /          \\\n",
    "      /            \\     /            \\\n",
    "Output 0      Output 1   Output 0      Output 1"
   ]
  }
 ],
 "metadata": {
  "kernelspec": {
   "display_name": "Python 3",
   "language": "python",
   "name": "python3"
  },
  "language_info": {
   "codemirror_mode": {
    "name": "ipython",
    "version": 3
   },
   "file_extension": ".py",
   "mimetype": "text/x-python",
   "name": "python",
   "nbconvert_exporter": "python",
   "pygments_lexer": "ipython3",
   "version": "3.7.6"
  }
 },
 "nbformat": 4,
 "nbformat_minor": 4
}
