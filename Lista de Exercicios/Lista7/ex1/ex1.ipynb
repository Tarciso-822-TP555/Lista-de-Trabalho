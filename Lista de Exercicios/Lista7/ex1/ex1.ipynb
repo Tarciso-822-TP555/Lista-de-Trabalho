{
 "cells": [
  {
   "cell_type": "code",
   "execution_count": 62,
   "metadata": {},
   "outputs": [],
   "source": [
    "# Import all necessary libraries.\n",
    "import numpy as np\n",
    "import matplotlib.pyplot as plt\n",
    "from matplotlib.colors import ListedColormap\n",
    "from sklearn.neighbors import KNeighborsClassifier\n",
    "from sklearn.model_selection import train_test_split\n",
    "from sklearn.datasets import make_blobs\n",
    "from sklearn.metrics import confusion_matrix, accuracy_score, roc_curve, auc, classification_report\n",
    "import seaborn as sns\n",
    "import math \n"
   ]
  },
  {
   "cell_type": "code",
   "execution_count": 63,
   "metadata": {},
   "outputs": [],
   "source": [
    "def calcularEntropia(p,n):\n",
    "    if(n == 0):\n",
    "        return 0\n",
    "    if(p == 0):\n",
    "        return 0\n",
    "    return - ( (p/(p+n)) * math.log2( (p/(p+n)) )  +  ( 1 - p/(p+n) ) * math.log2(1 - (p/(p+n)))  ) \n",
    "\n",
    "def calcularRemainder(p, n, p_total, n_total):\n",
    "    return (p + n)/(p_total + n_total) * calcularEntropia(p, n)\n"
   ]
  },
  {
   "cell_type": "markdown",
   "metadata": {},
   "source": [
    "| Exemplo  | A1  |A2   |A3   |y   |\n",
    "|---|---|---|---|---|\n",
    "| x1  | 1  | 0  |  0 | 0  |\n",
    "| x2  |  1 | 0  |  1 | 0  |\n",
    "| x3  |  0 |  1 |  0 | 0  |\n",
    "| x4  |  1 |  1 |  1 | 1  |\n",
    "| x5  |  1 |  1 |  0 | 1  |"
   ]
  },
  {
   "cell_type": "markdown",
   "metadata": {},
   "source": [
    "**Considerando o seguinte:**\n",
    "\n",
    "**0 = n**\n",
    "\n",
    "**1 = p**"
   ]
  },
  {
   "cell_type": "code",
   "execution_count": 64,
   "metadata": {},
   "outputs": [],
   "source": [
    "p_total = 2\n",
    "\n",
    "n_total = 3"
   ]
  },
  {
   "cell_type": "code",
   "execution_count": 65,
   "metadata": {},
   "outputs": [
    {
     "name": "stdout",
     "output_type": "stream",
     "text": [
      "Entropia total  0.9709505944546686\n"
     ]
    }
   ],
   "source": [
    "entropia_total = calcularEntropia(p_total, n_total)\n",
    "print('Entropia total ', entropia_total)"
   ]
  },
  {
   "cell_type": "markdown",
   "metadata": {},
   "source": [
    "![image info](./A1_A.png)"
   ]
  },
  {
   "cell_type": "code",
   "execution_count": 66,
   "metadata": {},
   "outputs": [
    {
     "name": "stdout",
     "output_type": "stream",
     "text": [
      "Ganho A1  0.17095059445466854\n"
     ]
    }
   ],
   "source": [
    "p_1_A1=2\n",
    "n_1_A1=2\n",
    "\n",
    "remainder_1_A1 = calcularRemainder(p_1_A1, n_1_A1, p_total, n_total)\n",
    "\n",
    "p_0_A1=0\n",
    "n_0_A1=1\n",
    "\n",
    "remainder_0_A1 = calcularRemainder(p_0_A1, n_0_A1, p_total, n_total)\n",
    "\n",
    "\n",
    "ganho_A1 = entropia_total - (remainder_1_A1 + remainder_0_A1)\n",
    "\n",
    "print('Ganho A1 ', ganho_A1)"
   ]
  },
  {
   "cell_type": "markdown",
   "metadata": {},
   "source": [
    "![image info](./A2_A.png)"
   ]
  },
  {
   "cell_type": "code",
   "execution_count": 67,
   "metadata": {},
   "outputs": [
    {
     "name": "stdout",
     "output_type": "stream",
     "text": [
      "Ganho A2  0.4199730940219749\n"
     ]
    }
   ],
   "source": [
    "p_1_A2=2\n",
    "n_1_A2=1\n",
    "\n",
    "remainder_1_A2 = calcularRemainder(p_1_A2, n_1_A2, p_total, n_total)\n",
    "\n",
    "p_0_A2=0\n",
    "n_0_A2=2\n",
    "\n",
    "remainder_0_A2 = calcularRemainder(p_0_A2, n_0_A2, p_total, n_total)\n",
    "\n",
    "\n",
    "ganho_A2 = entropia_total - (remainder_1_A2 + remainder_0_A2)\n",
    "\n",
    "print('Ganho A2 ', ganho_A2)"
   ]
  },
  {
   "cell_type": "markdown",
   "metadata": {},
   "source": [
    "![image info](./A3_A.png)"
   ]
  },
  {
   "cell_type": "code",
   "execution_count": 68,
   "metadata": {},
   "outputs": [
    {
     "name": "stdout",
     "output_type": "stream",
     "text": [
      "Ganho A3  0.01997309402197489\n"
     ]
    }
   ],
   "source": [
    "p_1_A3=1\n",
    "n_1_A3=1\n",
    "\n",
    "remainder_1_A3 = calcularRemainder(p_1_A3, n_1_A3, p_total, n_total)\n",
    "\n",
    "p_0_A3=1\n",
    "n_0_A3=2\n",
    "\n",
    "remainder_0_A3 = calcularRemainder(p_0_A3, n_0_A3, p_total, n_total)\n",
    "\n",
    "\n",
    "ganho_A3 = entropia_total - (remainder_1_A3 + remainder_0_A3)\n",
    "\n",
    "print('Ganho A3 ', ganho_A3)"
   ]
  },
  {
   "cell_type": "markdown",
   "metadata": {},
   "source": [
    "**Como o ganho de A2 é o maior, ele é escolhido com o nó raiz da árvore**\n",
    "\n",
    "**Além disso, quando A2 é 0, o output é sempre 0, portanto desconsideramos esse ramo, concluindo que o output será 0 quando A2 = 0**\n",
    "\n",
    "\n",
    "| Exemplo  |A2   |y   |\n",
    "|---|---|---|\n",
    "| x1  | **0**  |  0  |\n",
    "| x2  | **0**  |  0 |"
   ]
  },
  {
   "cell_type": "markdown",
   "metadata": {},
   "source": [
    "**Agora consideramos a tabela considerando apenas os valores quando A2 for igual a 1, o que nos obriga a calcular um novo p e n totais**\n",
    "\n",
    "| Exemplo  | A1  |A2   |A3   |y   |\n",
    "|---|---|---|---|---|\n",
    "| x3  |  0 |  1 |  0 | 0  |\n",
    "| x4  |  1 |  1 |  1 | 1  |\n",
    "| x5  |  1 |  1 |  0 | 1  |"
   ]
  },
  {
   "cell_type": "code",
   "execution_count": 69,
   "metadata": {},
   "outputs": [],
   "source": [
    "p_total = 2\n",
    "\n",
    "n_total = 1"
   ]
  },
  {
   "cell_type": "markdown",
   "metadata": {},
   "source": [
    "![image info](./A1_B.png)"
   ]
  },
  {
   "cell_type": "code",
   "execution_count": 70,
   "metadata": {},
   "outputs": [
    {
     "name": "stdout",
     "output_type": "stream",
     "text": [
      "Ganho A1  0.9709505944546686\n"
     ]
    }
   ],
   "source": [
    "\n",
    "p_1_A1=2\n",
    "n_1_A1=0\n",
    "\n",
    "remainder_1_A1 = calcularRemainder(p_1_A1, n_1_A1, p_total, n_total)\n",
    "\n",
    "p_0_A1=0\n",
    "n_0_A1=1\n",
    "\n",
    "remainder_0_A1 = calcularRemainder(p_0_A1, n_0_A1, p_total, n_total)\n",
    "\n",
    "\n",
    "ganho_A1 = entropia_total - (remainder_1_A1 + remainder_0_A1)\n",
    "\n",
    "print('Ganho A1 ', ganho_A1)"
   ]
  },
  {
   "cell_type": "markdown",
   "metadata": {},
   "source": [
    "![image info](./A3_B.png)"
   ]
  },
  {
   "cell_type": "code",
   "execution_count": 71,
   "metadata": {},
   "outputs": [
    {
     "name": "stdout",
     "output_type": "stream",
     "text": [
      "Ganho A3  0.30428392778800195\n"
     ]
    }
   ],
   "source": [
    "p_1_A3=1\n",
    "n_1_A3=0\n",
    "\n",
    "remainder_1_A3 = calcularRemainder(p_1_A3, n_1_A3, p_total, n_total)\n",
    "\n",
    "p_0_A3=1\n",
    "n_0_A3=1\n",
    "\n",
    "remainder_0_A3 = calcularRemainder(p_0_A3, n_0_A3, p_total, n_total)\n",
    "\n",
    "\n",
    "ganho_A3 = entropia_total - (remainder_1_A3 + remainder_0_A3)\n",
    "\n",
    "print('Ganho A3 ', ganho_A3)"
   ]
  },
  {
   "cell_type": "markdown",
   "metadata": {},
   "source": [
    "                     A2\n",
    "                    /  \\\n",
    "                   /    \\\n",
    "           Output 0 (N)  A1\n",
    "                        / \\\n",
    "                       /   \\\n",
    "                    0 /     \\ 1\n",
    "                     /       \\\n",
    "                    /         \\\n",
    "            Output 0 (N)    Output 1 (P)"
   ]
  }
 ],
 "metadata": {
  "kernelspec": {
   "display_name": "Python 3",
   "language": "python",
   "name": "python3"
  },
  "language_info": {
   "codemirror_mode": {
    "name": "ipython",
    "version": 3
   },
   "file_extension": ".py",
   "mimetype": "text/x-python",
   "name": "python",
   "nbconvert_exporter": "python",
   "pygments_lexer": "ipython3",
   "version": "3.7.6"
  }
 },
 "nbformat": 4,
 "nbformat_minor": 4
}
